{
  "cells": [
    {
      "cell_type": "markdown",
      "source": [
        "#Drive mount"
      ],
      "metadata": {
        "id": "9j5AEJBLo9D6"
      }
    },
    {
      "cell_type": "code",
      "execution_count": null,
      "metadata": {
        "colab": {
          "base_uri": "https://localhost:8080/"
        },
        "id": "rSCAcyMwVzkm",
        "outputId": "f1ac71fa-cc65-4fd6-e933-a2660e6ec5ce"
      },
      "outputs": [
        {
          "output_type": "stream",
          "name": "stdout",
          "text": [
            "Mounted at /content/drive\n"
          ]
        }
      ],
      "source": [
        "from google.colab import drive\n",
        "drive.mount('/content/drive')"
      ]
    },
    {
      "cell_type": "markdown",
      "metadata": {
        "id": "TyqJMNQFP1Ud"
      },
      "source": [
        "# Install required libraries "
      ]
    },
    {
      "cell_type": "code",
      "execution_count": null,
      "metadata": {
        "colab": {
          "base_uri": "https://localhost:8080/"
        },
        "id": "5lXfVcbeGaHk",
        "outputId": "4dce8af2-fb54-47d5-f839-5c2bed6d45b2"
      },
      "outputs": [
        {
          "output_type": "stream",
          "name": "stdout",
          "text": [
            "Looking in indexes: https://pypi.org/simple, https://us-python.pkg.dev/colab-wheels/public/simple/\n",
            "Collecting Augmentor\n",
            "  Downloading Augmentor-0.2.10-py2.py3-none-any.whl (38 kB)\n",
            "Requirement already satisfied: numpy>=1.11.0 in /usr/local/lib/python3.9/dist-packages (from Augmentor) (1.22.4)\n",
            "Requirement already satisfied: Pillow>=5.2.0 in /usr/local/lib/python3.9/dist-packages (from Augmentor) (8.4.0)\n",
            "Requirement already satisfied: tqdm>=4.9.0 in /usr/local/lib/python3.9/dist-packages (from Augmentor) (4.65.0)\n",
            "Requirement already satisfied: future>=0.16.0 in /usr/local/lib/python3.9/dist-packages (from Augmentor) (0.16.0)\n",
            "Installing collected packages: Augmentor\n",
            "Successfully installed Augmentor-0.2.10\n",
            "\u001b[2K     \u001b[90m━━━━━━━━━━━━━━━━━━━━━━━━━━━━━━━━━━━━━━━━\u001b[0m \u001b[32m17.6/17.6 MB\u001b[0m \u001b[31m70.5 MB/s\u001b[0m eta \u001b[36m0:00:00\u001b[0m\n",
            "\u001b[2K     \u001b[90m━━━━━━━━━━━━━━━━━━━━━━━━━━━━━━━━━━━━━━\u001b[0m \u001b[32m184.3/184.3 KB\u001b[0m \u001b[31m19.3 MB/s\u001b[0m eta \u001b[36m0:00:00\u001b[0m\n",
            "\u001b[2K     \u001b[90m━━━━━━━━━━━━━━━━━━━━━━━━━━━━━━━━━━━━━━\u001b[0m \u001b[32m212.2/212.2 KB\u001b[0m \u001b[31m22.0 MB/s\u001b[0m eta \u001b[36m0:00:00\u001b[0m\n",
            "\u001b[2K     \u001b[90m━━━━━━━━━━━━━━━━━━━━━━━━━━━━━━━━━━━━━━\u001b[0m \u001b[32m147.5/147.5 KB\u001b[0m \u001b[31m16.5 MB/s\u001b[0m eta \u001b[36m0:00:00\u001b[0m\n",
            "\u001b[2K     \u001b[90m━━━━━━━━━━━━━━━━━━━━━━━━━━━━━━━━━━━━━━━━\u001b[0m \u001b[32m82.4/82.4 KB\u001b[0m \u001b[31m9.9 MB/s\u001b[0m eta \u001b[36m0:00:00\u001b[0m\n",
            "\u001b[?25h  Preparing metadata (setup.py) ... \u001b[?25l\u001b[?25hdone\n",
            "\u001b[2K     \u001b[90m━━━━━━━━━━━━━━━━━━━━━━━━━━━━━━━━━━━━━━\u001b[0m \u001b[32m572.4/572.4 KB\u001b[0m \u001b[31m41.2 MB/s\u001b[0m eta \u001b[36m0:00:00\u001b[0m\n",
            "\u001b[2K     \u001b[90m━━━━━━━━━━━━━━━━━━━━━━━━━━━━━━━━━━━━━━━━\u001b[0m \u001b[32m79.5/79.5 KB\u001b[0m \u001b[31m9.7 MB/s\u001b[0m eta \u001b[36m0:00:00\u001b[0m\n",
            "\u001b[2K     \u001b[90m━━━━━━━━━━━━━━━━━━━━━━━━━━━━━━━━━━━━━━━━\u001b[0m \u001b[32m78.7/78.7 KB\u001b[0m \u001b[31m8.3 MB/s\u001b[0m eta \u001b[36m0:00:00\u001b[0m\n",
            "\u001b[2K     \u001b[90m━━━━━━━━━━━━━━━━━━━━━━━━━━━━━━━━━━━━━━━━\u001b[0m \u001b[32m55.9/55.9 KB\u001b[0m \u001b[31m7.1 MB/s\u001b[0m eta \u001b[36m0:00:00\u001b[0m\n",
            "\u001b[2K     \u001b[90m━━━━━━━━━━━━━━━━━━━━━━━━━━━━━━━━━━━━━━━━\u001b[0m \u001b[32m62.8/62.8 KB\u001b[0m \u001b[31m7.6 MB/s\u001b[0m eta \u001b[36m0:00:00\u001b[0m\n",
            "\u001b[2K     \u001b[90m━━━━━━━━━━━━━━━━━━━━━━━━━━━━━━━━━━━━━━━━\u001b[0m \u001b[32m62.7/62.7 KB\u001b[0m \u001b[31m6.9 MB/s\u001b[0m eta \u001b[36m0:00:00\u001b[0m\n",
            "\u001b[2K     \u001b[90m━━━━━━━━━━━━━━━━━━━━━━━━━━━━━━━━━━━━━━\u001b[0m \u001b[32m199.2/199.2 KB\u001b[0m \u001b[31m20.8 MB/s\u001b[0m eta \u001b[36m0:00:00\u001b[0m\n",
            "\u001b[?25h  Building wheel for databricks-cli (setup.py) ... \u001b[?25l\u001b[?25hdone\n"
          ]
        }
      ],
      "source": [
        "!pip install Augmentor\n",
        "!pip install mlflow --quiet\n"
      ]
    },
    {
      "cell_type": "code",
      "execution_count": null,
      "metadata": {
        "id": "wYjDTUwUv-3R"
      },
      "outputs": [],
      "source": [
        "import numpy as np\n",
        "import pandas as pd\n",
        "import seaborn as sb\n",
        "import matplotlib.pyplot as plt\n",
        "import os\n",
        "import shutil\n",
        "from glob import glob\n",
        "from PIL import Image\n",
        "from sklearn.model_selection import train_test_split\n",
        "from keras.preprocessing.image import ImageDataGenerator\n",
        "import tensorflow as tf\n",
        "from tensorflow import keras\n",
        "from keras import layers\n",
        "from functools import partial\n",
        "import seaborn as sn\n",
        "import matplotlib.pyplot as plt\n",
        "AUTO = tf.data.experimental.AUTOTUNE\n",
        "import warnings\n",
        "warnings.filterwarnings('ignore')\n",
        "from sklearn.metrics import confusion_matrix\n",
        "from getpass import getpass\n",
        "import mlflow\n",
        "import IPython\n",
        "from keras.models import Sequential, load_model\n",
        "from sklearn.metrics import confusion_matrix, ConfusionMatrixDisplay"
      ]
    },
    {
      "cell_type": "code",
      "execution_count": null,
      "metadata": {
        "id": "rNanAZllCeTc"
      },
      "outputs": [],
      "source": [
        "# !unzip '/content/drive/MyDrive/Traffic Prediction/Updated unmasked dataset/ottawa_labeled.zip' -d '/content/drive/MyDrive/Traffic Prediction/Updated unmasked dataset'"
      ]
    },
    {
      "cell_type": "markdown",
      "metadata": {
        "id": "LNWbAw5CWehF"
      },
      "source": [
        "# Data Augmentation"
      ]
    },
    {
      "cell_type": "code",
      "execution_count": null,
      "metadata": {
        "id": "tfg6CxliWetv"
      },
      "outputs": [],
      "source": [
        "# Create an instance of the ImageDataGenerator\n",
        "train_datagen = ImageDataGenerator(rescale = 1.0/255,\n",
        "                            rotation_range=10,\n",
        "                            width_shift_range=0.1,\n",
        "                            height_shift_range=0.1,\n",
        "                            shear_range=0.2,\n",
        "                            brightness_range=(0.5,1.5),\n",
        "                            # channel_shift_range=(0.5,1.5),\n",
        "                            zoom_range=0.2,\n",
        "                            horizontal_flip=True,\n",
        "                            fill_mode='nearest', # nearest\n",
        "                            cval=1\n",
        "                            )"
      ]
    },
    {
      "cell_type": "code",
      "execution_count": null,
      "metadata": {
        "id": "izXzgUcNWqk9"
      },
      "outputs": [],
      "source": [
        "#importing the required libraries\n",
        "import os\n",
        "import shutil\n",
        "import numpy as np\n",
        "import pandas as pd\n",
        "import random\n",
        "from PIL import Image\n",
        "\n",
        "from keras_preprocessing.image import ImageDataGenerator\n",
        "\n",
        "# -----INPUT-----------\n",
        "class_name = 'lc'\n",
        "num_of_samples = 200\n",
        "unreadables = []\n",
        "msgs = []\n",
        "\n",
        "#there are three types of congestion level and this is argumentation for low-level only. For the remaining two types, the below paths will have to be adjusted\n",
        "source_dir = '/content/drive/MyDrive/Traffic Prediction/Updated unmasked dataset/ottawa_labeled/train/Low' \n",
        "target_dir = '/content/drive/MyDrive/Traffic Prediction/Updated unmasked dataset/ottawa_labeled_argumented/Low'\n",
        "jpg = ''\n",
        "try:\n",
        "    # for jpg in os.listdir(source_dir): \n",
        "    for jpg in random.sample([jpg for jpg in os.listdir(source_dir)], num_of_samples): \n",
        "            \n",
        "        p = os.path.join(source_dir, jpg)\n",
        "        img = Image.open(p)  # this is a PIL image\n",
        "        x = np.array(img)  # this is a Numpy array with shape (3, xxx, xxx)\n",
        "        x = x.reshape((1,) + x.shape)  # this is a Numpy array with shape (1, 3, xxx, xxx)\n",
        "\n",
        "        # the .flow() command below generates batches of randomly transformed images\n",
        "        # and saves the results to the `preview/` directory\n",
        "        num_of_variations = 0\n",
        "        \n",
        "        for batch in train_datagen.flow(x, None, batch_size=1,\n",
        "                    save_to_dir=os.path.join(target_dir),\n",
        "                    save_format='jpg',\n",
        "                    save_prefix='aug_low',\n",
        "                    # seed=42,\n",
        "                    ):\n",
        "            num_of_variations += 1\n",
        "            if num_of_variations >= 6:\n",
        "                break  # otherwise the generator would loop indefinitely\n",
        "\n",
        "except Exception as e:\n",
        "    unreadables.append(jpg)\n",
        "    msgs.append(e)\n",
        "    pass\n"
      ]
    },
    {
      "cell_type": "markdown",
      "metadata": {
        "id": "GdkFk9NWeXws"
      },
      "source": [
        "#Move original dataset into augmented dataset\n"
      ]
    },
    {
      "cell_type": "code",
      "execution_count": null,
      "metadata": {
        "id": "gJ7VBoSKt8KS"
      },
      "outputs": [],
      "source": [
        "# move original dataset into augmented dataset\n",
        "\n",
        "path = '/content/drive/MyDrive/Traffic Prediction/Updated unmasked dataset/ottawa_labeled/train/High/'\n",
        "# for img in random.sample([img for img in os.listdir(path)], 1500):\n",
        "for img in os.listdir(path):\n",
        "  shutil.move(path+img, '/content/drive/MyDrive/Traffic Prediction/Updated unmasked dataset/ottawa_labeled_argumented/High/'+img)\n",
        "\n",
        "path = '/content/drive/MyDrive/Traffic Prediction/Updated unmasked dataset/ottawa_labeled/train/Low/'\n",
        "for img in random.sample([img for img in os.listdir(path)], 1000):\n",
        "# for img in os.listdir(path):\n",
        "  shutil.move(path+img, '/content/drive/MyDrive/Traffic Prediction/Updated unmasked dataset/ottawa_labeled_argumented/Low/'+img)\n",
        "\n",
        "path = '/content/drive/MyDrive/Traffic Prediction/Updated unmasked dataset/ottawa_labeled/train/Medium/'\n",
        "# for img in random.sample([img for img in os.listdir(path)], 1500):\n",
        "for img in os.listdir(path):\n",
        "  shutil.move(path+img, '/content/drive/MyDrive/Traffic Prediction/Updated unmasked dataset/ottawa_labeled_argumented/Medium/'+img)"
      ]
    },
    {
      "cell_type": "code",
      "execution_count": null,
      "metadata": {
        "colab": {
          "base_uri": "https://localhost:8080/"
        },
        "id": "XMTafYSVuCVv",
        "outputId": "542d6a45-100e-46e2-b642-a8e10bb240a3"
      },
      "outputs": [
        {
          "name": "stdout",
          "output_type": "stream",
          "text": [
            "High 1562\n",
            "Medium 1599\n",
            "Low 1505\n"
          ]
        }
      ],
      "source": [
        "#original+augmented dataset folder path\n",
        "dir_path = r'/content/drive/MyDrive/Traffic Prediction/Updated unmasked dataset/ottawa_labeled_argumented'\n",
        "# Iterate directory\n",
        "for os_folder in os.listdir(dir_path):\n",
        "  if os.path.isdir(os.path.join(dir_path, os_folder)):\n",
        "    count = 0\n",
        "    for path in os.listdir(dir_path + '/' + os_folder):\n",
        "        # check if current path is a file\n",
        "        if os.path.isfile(os.path.join(dir_path+'/'+os_folder, path)):\n",
        "            count += 1\n",
        "    print(os_folder, count)"
      ]
    },
    {
      "cell_type": "code",
      "execution_count": null,
      "metadata": {
        "id": "i8zeu7wg3ZyI"
      },
      "outputs": [],
      "source": [
        "import os\n",
        "id = []\n",
        "classes = []\n",
        "for img_fold in os.listdir(\"/content/drive/MyDrive/Traffic Prediction/Updated unmasked dataset/ottawa_labeled_argumented\"):\n",
        "  for img in os.listdir(\"/content/drive/MyDrive/Traffic Prediction/Updated unmasked dataset/ottawa_labeled_argumented/\"+img_fold):\n",
        "       \n",
        "      #  id.append(\"/content/drive/MyDrive/dataset/train/\"+img_fold+'/'+img)\n",
        "      #  classes.append(class_dic[img_fold])\n",
        "       id.append(img)\n",
        "       classes.append(img_fold)"
      ]
    },
    {
      "cell_type": "code",
      "execution_count": null,
      "metadata": {
        "id": "gm6WOp26KX29"
      },
      "outputs": [],
      "source": [
        "# Importing Pandas to create DataFrame\n",
        "import pandas as pd\n",
        "  \n",
        "# Creating DataFrame and Storing it in variable df\n",
        "\n",
        "data = {'id': id,\n",
        "        'class': classes}\n",
        "df = pd.DataFrame(data) \n",
        "df.to_csv('/content/drive/MyDrive/Traffic Prediction/csv/Updated_unmasked.csv')"
      ]
    },
    {
      "cell_type": "code",
      "execution_count": null,
      "metadata": {
        "id": "sXfV_RRK8HzW"
      },
      "outputs": [],
      "source": [
        "#read traffic.csv file\n",
        "\n",
        "# df=pd.read_csv('/content/drive/MyDrive/Traffic Prediction/traffic.csv')\n",
        "\n",
        "df=pd.read_csv('/content/drive/MyDrive/Traffic Prediction/csv/Updated_unmasked.csv',index_col=0)"
      ]
    },
    {
      "cell_type": "code",
      "execution_count": null,
      "metadata": {
        "colab": {
          "base_uri": "https://localhost:8080/",
          "height": 206
        },
        "id": "PIcI2nhp_t5a",
        "outputId": "c172b49f-06a0-4fce-ce46-8f64d4f550f5"
      },
      "outputs": [
        {
          "data": {
            "text/html": [
              "\n",
              "  <div id=\"df-16e901a0-a93e-4ddd-87fb-535c307894f9\">\n",
              "    <div class=\"colab-df-container\">\n",
              "      <div>\n",
              "<style scoped>\n",
              "    .dataframe tbody tr th:only-of-type {\n",
              "        vertical-align: middle;\n",
              "    }\n",
              "\n",
              "    .dataframe tbody tr th {\n",
              "        vertical-align: top;\n",
              "    }\n",
              "\n",
              "    .dataframe thead th {\n",
              "        text-align: right;\n",
              "    }\n",
              "</style>\n",
              "<table border=\"1\" class=\"dataframe\">\n",
              "  <thead>\n",
              "    <tr style=\"text-align: right;\">\n",
              "      <th></th>\n",
              "      <th>id</th>\n",
              "      <th>class</th>\n",
              "    </tr>\n",
              "  </thead>\n",
              "  <tbody>\n",
              "    <tr>\n",
              "      <th>0</th>\n",
              "      <td>2032_2022-12-23-10-35.jpg</td>\n",
              "      <td>High</td>\n",
              "    </tr>\n",
              "    <tr>\n",
              "      <th>1</th>\n",
              "      <td>2005_2022-12-22-12-52.jpg</td>\n",
              "      <td>High</td>\n",
              "    </tr>\n",
              "    <tr>\n",
              "      <th>2</th>\n",
              "      <td>2006_2022-12-22-18-04.jpg</td>\n",
              "      <td>High</td>\n",
              "    </tr>\n",
              "    <tr>\n",
              "      <th>3</th>\n",
              "      <td>2026_2022-12-22-20-04.jpg</td>\n",
              "      <td>High</td>\n",
              "    </tr>\n",
              "    <tr>\n",
              "      <th>4</th>\n",
              "      <td>2007_2022-12-23-06-13.jpg</td>\n",
              "      <td>High</td>\n",
              "    </tr>\n",
              "  </tbody>\n",
              "</table>\n",
              "</div>\n",
              "      <button class=\"colab-df-convert\" onclick=\"convertToInteractive('df-16e901a0-a93e-4ddd-87fb-535c307894f9')\"\n",
              "              title=\"Convert this dataframe to an interactive table.\"\n",
              "              style=\"display:none;\">\n",
              "        \n",
              "  <svg xmlns=\"http://www.w3.org/2000/svg\" height=\"24px\"viewBox=\"0 0 24 24\"\n",
              "       width=\"24px\">\n",
              "    <path d=\"M0 0h24v24H0V0z\" fill=\"none\"/>\n",
              "    <path d=\"M18.56 5.44l.94 2.06.94-2.06 2.06-.94-2.06-.94-.94-2.06-.94 2.06-2.06.94zm-11 1L8.5 8.5l.94-2.06 2.06-.94-2.06-.94L8.5 2.5l-.94 2.06-2.06.94zm10 10l.94 2.06.94-2.06 2.06-.94-2.06-.94-.94-2.06-.94 2.06-2.06.94z\"/><path d=\"M17.41 7.96l-1.37-1.37c-.4-.4-.92-.59-1.43-.59-.52 0-1.04.2-1.43.59L10.3 9.45l-7.72 7.72c-.78.78-.78 2.05 0 2.83L4 21.41c.39.39.9.59 1.41.59.51 0 1.02-.2 1.41-.59l7.78-7.78 2.81-2.81c.8-.78.8-2.07 0-2.86zM5.41 20L4 18.59l7.72-7.72 1.47 1.35L5.41 20z\"/>\n",
              "  </svg>\n",
              "      </button>\n",
              "      \n",
              "  <style>\n",
              "    .colab-df-container {\n",
              "      display:flex;\n",
              "      flex-wrap:wrap;\n",
              "      gap: 12px;\n",
              "    }\n",
              "\n",
              "    .colab-df-convert {\n",
              "      background-color: #E8F0FE;\n",
              "      border: none;\n",
              "      border-radius: 50%;\n",
              "      cursor: pointer;\n",
              "      display: none;\n",
              "      fill: #1967D2;\n",
              "      height: 32px;\n",
              "      padding: 0 0 0 0;\n",
              "      width: 32px;\n",
              "    }\n",
              "\n",
              "    .colab-df-convert:hover {\n",
              "      background-color: #E2EBFA;\n",
              "      box-shadow: 0px 1px 2px rgba(60, 64, 67, 0.3), 0px 1px 3px 1px rgba(60, 64, 67, 0.15);\n",
              "      fill: #174EA6;\n",
              "    }\n",
              "\n",
              "    [theme=dark] .colab-df-convert {\n",
              "      background-color: #3B4455;\n",
              "      fill: #D2E3FC;\n",
              "    }\n",
              "\n",
              "    [theme=dark] .colab-df-convert:hover {\n",
              "      background-color: #434B5C;\n",
              "      box-shadow: 0px 1px 3px 1px rgba(0, 0, 0, 0.15);\n",
              "      filter: drop-shadow(0px 1px 2px rgba(0, 0, 0, 0.3));\n",
              "      fill: #FFFFFF;\n",
              "    }\n",
              "  </style>\n",
              "\n",
              "      <script>\n",
              "        const buttonEl =\n",
              "          document.querySelector('#df-16e901a0-a93e-4ddd-87fb-535c307894f9 button.colab-df-convert');\n",
              "        buttonEl.style.display =\n",
              "          google.colab.kernel.accessAllowed ? 'block' : 'none';\n",
              "\n",
              "        async function convertToInteractive(key) {\n",
              "          const element = document.querySelector('#df-16e901a0-a93e-4ddd-87fb-535c307894f9');\n",
              "          const dataTable =\n",
              "            await google.colab.kernel.invokeFunction('convertToInteractive',\n",
              "                                                     [key], {});\n",
              "          if (!dataTable) return;\n",
              "\n",
              "          const docLinkHtml = 'Like what you see? Visit the ' +\n",
              "            '<a target=\"_blank\" href=https://colab.research.google.com/notebooks/data_table.ipynb>data table notebook</a>'\n",
              "            + ' to learn more about interactive tables.';\n",
              "          element.innerHTML = '';\n",
              "          dataTable['output_type'] = 'display_data';\n",
              "          await google.colab.output.renderOutput(dataTable, element);\n",
              "          const docLink = document.createElement('div');\n",
              "          docLink.innerHTML = docLinkHtml;\n",
              "          element.appendChild(docLink);\n",
              "        }\n",
              "      </script>\n",
              "    </div>\n",
              "  </div>\n",
              "  "
            ],
            "text/plain": [
              "                          id class\n",
              "0  2032_2022-12-23-10-35.jpg  High\n",
              "1  2005_2022-12-22-12-52.jpg  High\n",
              "2  2006_2022-12-22-18-04.jpg  High\n",
              "3  2026_2022-12-22-20-04.jpg  High\n",
              "4  2007_2022-12-23-06-13.jpg  High"
            ]
          },
          "execution_count": 18,
          "metadata": {},
          "output_type": "execute_result"
        }
      ],
      "source": [
        "df.head()"
      ]
    },
    {
      "cell_type": "code",
      "execution_count": null,
      "metadata": {
        "colab": {
          "base_uri": "https://localhost:8080/"
        },
        "id": "aAjlux6lK_W5",
        "outputId": "8e523609-9812-4328-cd6e-817d5a71b596"
      },
      "outputs": [
        {
          "name": "stdout",
          "output_type": "stream",
          "text": [
            "Total number of images in the dataset:  4666\n",
            "Medium    1599\n",
            "High      1562\n",
            "Low       1505\n",
            "Name: class, dtype: int64\n"
          ]
        }
      ],
      "source": [
        "print(\"Total number of images in the dataset: \", len(df))\n",
        "\n",
        "label_count = df['class'].value_counts()\n",
        "print(label_count)"
      ]
    },
    {
      "cell_type": "markdown",
      "metadata": {
        "id": "WfNIoaioWD3n"
      },
      "source": [
        "If you want to use \"categorical_crossentropy\", the labels should be one-hot-encoded. When your labels are given as an integer, changing to \"sparse_categorical_crossentropy\" is required. The advantage of using \"categorical_crossentropy\" is that it can give you class probabilities, which might be useful in some cases. Or load with flow_from_directory, flow_from_dataframe then use class_mode='categorical'"
      ]
    },
    {
      "cell_type": "markdown",
      "metadata": {
        "id": "v8ps4a7Nevzs"
      },
      "source": [
        "#Resize data"
      ]
    },
    {
      "cell_type": "code",
      "execution_count": null,
      "metadata": {
        "id": "ByEA3hYvLKdR"
      },
      "outputs": [],
      "source": [
        "import cv2\n",
        "path = '/content/drive/MyDrive/Traffic Prediction/Updated unmasked dataset/ottawa_labeled_argumented/'\n",
        "dataset_path = df['class']\n",
        "\n",
        "im_size = 300\n",
        "count = 0\n",
        "images = []\n",
        "labels = []\n",
        "\n",
        "for i in dataset_path:\n",
        "    data_path = path + str(i)\n",
        "\n",
        "    filenames = df['id'][count]\n",
        "\n",
        "    count+=1\n",
        "    #for f in filenames:\n",
        "    img = cv2.imread(data_path + '/' + filenames)\n",
        "    img = cv2.resize(img, (im_size, im_size))\n",
        "    cv2.imwrite('/content/drive/MyDrive/Traffic Prediction/Updated unmasked dataset/ottawa_argumented_resized/'+str(i)+'/'+filenames, img)\n",
        "    # images.append(img)\n",
        "    # labels.append(i)"
      ]
    },
    {
      "cell_type": "code",
      "execution_count": null,
      "metadata": {
        "colab": {
          "base_uri": "https://localhost:8080/"
        },
        "id": "fJl49oid0uW5",
        "outputId": "8c2f6a82-4350-4992-eb99-20c7fcea1c09"
      },
      "outputs": [
        {
          "name": "stdout",
          "output_type": "stream",
          "text": [
            "Low 1537\n",
            "Medium 1599\n",
            "High 1562\n"
          ]
        }
      ],
      "source": [
        "#original+augmented dataset folder path\n",
        "dir_path = r'/content/drive/MyDrive/Traffic Prediction/Updated unmasked dataset/ottawa_argumented_resized/'\n",
        "# Iterate directory\n",
        "for os_folder in os.listdir(dir_path):\n",
        "  if os.path.isdir(os.path.join(dir_path, os_folder)):\n",
        "    count = 0\n",
        "    for path in os.listdir(dir_path + '/' + os_folder):\n",
        "        # check if current path is a file\n",
        "        if os.path.isfile(os.path.join(dir_path+'/'+os_folder, path)):\n",
        "            count += 1\n",
        "    print(os_folder, count)\n",
        "\n",
        "# Low 1537\n",
        "# Medium 1599\n",
        "# High 1562\n",
        "# Total 4698"
      ]
    },
    {
      "cell_type": "markdown",
      "metadata": {
        "id": "eKLXtvsO2Ty0"
      },
      "source": [
        "# Data preparation with resized images"
      ]
    },
    {
      "cell_type": "code",
      "execution_count": null,
      "metadata": {
        "colab": {
          "base_uri": "https://localhost:8080/"
        },
        "id": "tEBLcIaK2bqy",
        "outputId": "b15f3959-eb36-41bf-f7e7-dda382d544f0"
      },
      "outputs": [
        {
          "output_type": "stream",
          "name": "stdout",
          "text": [
            "High 57\n",
            "Medium 82\n",
            "Low 83\n"
          ]
        }
      ],
      "source": [
        "#resized original+augmented dataset folder path\n",
        "# dir_path = r'/content/drive/MyDrive/Traffic Prediction/Updated unmasked dataset/ottawa_argumented_resized/'\n",
        "# Iterate directory\n",
        "dir_path=r'/content/drive/MyDrive/Traffic Prediction/resized ottawa benchmark set/test'\n",
        "for os_folder in os.listdir(dir_path):\n",
        "  if os.path.isdir(os.path.join(dir_path, os_folder)):\n",
        "    count = 0\n",
        "    for path in os.listdir(dir_path + '/' + os_folder):\n",
        "        # check if current path is a file\n",
        "        if os.path.isfile(os.path.join(dir_path+'/'+os_folder, path)):\n",
        "            count += 1\n",
        "    print(os_folder, count)"
      ]
    },
    {
      "cell_type": "code",
      "execution_count": null,
      "metadata": {
        "id": "V22_t48R3ugg"
      },
      "outputs": [],
      "source": [
        "id = []\n",
        "classes = []\n",
        "for img_fold in os.listdir(\"/content/drive/MyDrive/Traffic Prediction/resized ottawa benchmark set/test\"):\n",
        "  for img in os.listdir(\"/content/drive/MyDrive/Traffic Prediction/resized ottawa benchmark set/test/\"+img_fold):\n",
        "# for img_fold in os.listdir('/content/drive/MyDrive/Traffic Prediction/Updated unmasked dataset/ottawa_argumented_resized/'):\n",
        "#   for img in os.listdir('/content/drive/MyDrive/Traffic Prediction/Updated unmasked dataset/ottawa_argumented_resized/'+img_fold):\n",
        "       \n",
        "      #  id.append(\"/content/drive/MyDrive/dataset/train/\"+img_fold+'/'+img)\n",
        "      #  classes.append(class_dic[img_fold])\n",
        "       id.append(img)\n",
        "       classes.append(img_fold)"
      ]
    },
    {
      "cell_type": "code",
      "execution_count": null,
      "metadata": {
        "id": "pVdQ86CR2qRJ"
      },
      "outputs": [],
      "source": [
        "# Importing Pandas to create DataFrame\n",
        "import pandas as pd\n",
        "  \n",
        "# Creating DataFrame and Storing it in variable df\n",
        "\n",
        "data = {'id': id,\n",
        "        'class': classes}\n",
        "df = pd.DataFrame(data) \n",
        "df.to_csv('/content/drive/MyDrive/Traffic Prediction/csv/benchmark_test_updated_resized_traffic.csv')"
      ]
    },
    {
      "cell_type": "code",
      "execution_count": null,
      "metadata": {
        "id": "76-lbOTY4BZu"
      },
      "outputs": [],
      "source": [
        "#read traffic.csv file\n",
        "df=pd.read_csv('/content/drive/MyDrive/Traffic Prediction/csv/benchmark_test_updated_resized_traffic.csv',index_col=0)\n",
        "# df=pd.read_csv('/content/drive/MyDrive/Traffic Prediction/csv/Updated_unmasked.csv',index_col=0)"
      ]
    },
    {
      "cell_type": "code",
      "execution_count": null,
      "metadata": {
        "colab": {
          "base_uri": "https://localhost:8080/"
        },
        "id": "gXD1IoazneM7",
        "outputId": "119de77e-e090-4cc9-d38c-6e962b542a08"
      },
      "outputs": [
        {
          "output_type": "execute_result",
          "data": {
            "text/plain": [
              "222"
            ]
          },
          "metadata": {},
          "execution_count": 70
        }
      ],
      "source": [
        "len(df.index)\n",
        "# print(type(df))\n",
        "# print(len(df.index))"
      ]
    },
    {
      "cell_type": "code",
      "execution_count": null,
      "metadata": {
        "id": "xj-5sIeGqHOB"
      },
      "outputs": [],
      "source": [
        "from sklearn.preprocessing import LabelEncoder , OneHotEncoder\n",
        "y=df['class'].values\n",
        "# print(y)\n",
        "y_labelencoder = LabelEncoder()\n",
        "y = y_labelencoder.fit_transform(y)\n",
        "# print(y)"
      ]
    },
    {
      "cell_type": "code",
      "source": [
        "# img = cv2.imread('/content/drive/MyDrive/Traffic Prediction/resized ottawa benchmark set/test/Medium/2006_2022-12-22-11-38.jpg')\n",
        "# print(\"Image\",img)"
      ],
      "metadata": {
        "id": "4dfDU5WBAReZ"
      },
      "execution_count": null,
      "outputs": []
    },
    {
      "cell_type": "code",
      "execution_count": null,
      "metadata": {
        "id": "2M7K9bib4MD3"
      },
      "outputs": [],
      "source": [
        "# path = '/content/drive/MyDrive/Traffic Prediction/Updated unmasked dataset/ottawa_argumented_resized'\n",
        "\n",
        "path = '/content/drive/MyDrive/Traffic Prediction/resized ottawa benchmark set/test/'\n",
        "\n",
        "dataset_path = df['class']\n",
        "\n",
        "im_size = 300\n",
        "count = 0\n",
        "images = []\n",
        "labels = []\n",
        "\n",
        "for i in dataset_path:\n",
        "    data_path = path + str(i)\n",
        "    filenames = df['id'][count]\n",
        "    count+=1\n",
        "    # print(data_path)\n",
        "    # print(filenames)\n",
        "    # # for f in filenames:\n",
        "    img = cv2.imread(data_path + '/' + filenames)\n",
        "    # print(img)\n",
        "    images.append(img)\n",
        "    labels.append(i)"
      ]
    },
    {
      "cell_type": "code",
      "execution_count": null,
      "metadata": {
        "colab": {
          "base_uri": "https://localhost:8080/"
        },
        "id": "0Us48lv6n0YK",
        "outputId": "d46159e0-151e-4eb2-b060-9b4a926b0c3d"
      },
      "outputs": [
        {
          "output_type": "stream",
          "name": "stdout",
          "text": [
            "222\n",
            "222\n"
          ]
        }
      ],
      "source": [
        "print(len(images))\n",
        "print(len(labels))"
      ]
    },
    {
      "cell_type": "code",
      "execution_count": null,
      "metadata": {
        "colab": {
          "base_uri": "https://localhost:8080/"
        },
        "id": "naG26cRtMCqa",
        "outputId": "1e7742df-c650-46e8-df89-3ceaf58c7d67"
      },
      "outputs": [
        {
          "output_type": "execute_result",
          "data": {
            "text/plain": [
              "(222, 300, 300, 3)"
            ]
          },
          "metadata": {},
          "execution_count": 75
        }
      ],
      "source": [
        "#This model takes input images of shape (300, 300, 3), and the input data should range [0, 255]. \n",
        "\n",
        "images = np.array(images)\n",
        "images = images.astype('float32') / 255.0\n",
        "images.shape"
      ]
    },
    {
      "cell_type": "markdown",
      "metadata": {
        "id": "hLH3ysmnLUpi"
      },
      "source": [
        "# One Hot Encoding using Keras"
      ]
    },
    {
      "cell_type": "code",
      "execution_count": null,
      "metadata": {
        "colab": {
          "base_uri": "https://localhost:8080/"
        },
        "id": "kuhTtGmq26rV",
        "outputId": "1d572ef5-801b-4ed9-cf5a-ecf009c35157"
      },
      "outputs": [
        {
          "output_type": "execute_result",
          "data": {
            "text/plain": [
              "803"
            ]
          },
          "metadata": {},
          "execution_count": 76
        }
      ],
      "source": [
        "import gc\n",
        "\n",
        "gc.collect()"
      ]
    },
    {
      "cell_type": "code",
      "execution_count": null,
      "metadata": {
        "id": "ogC1v8Y-LCLI"
      },
      "outputs": [],
      "source": [
        "from keras.utils import to_categorical\n",
        "from sklearn.preprocessing import LabelEncoder\n",
        "\n",
        "# encode the labels\n",
        "encoder = LabelEncoder()\n",
        "integer_labels = encoder.fit_transform(labels)\n",
        "\n",
        "# one-hot encode the integer labels\n",
        "one_hot_labels = to_categorical(integer_labels)\n"
      ]
    },
    {
      "cell_type": "code",
      "execution_count": null,
      "metadata": {
        "id": "SM5VBZC9Mhyf"
      },
      "outputs": [],
      "source": [
        "from sklearn.utils import shuffle\n",
        "from sklearn.model_selection import train_test_split\n",
        "\n",
        "\n",
        "images, Y = shuffle(images, one_hot_labels, random_state=1)\n",
        "\n",
        "\n",
        "# train_x, test_x, train_y, test_y = train_test_split(images, Y, test_size=0.2, random_state=415)\n",
        "\n",
        "#inpect the shape of the training and testing.\n",
        "# print(train_x.shape)\n",
        "# print(train_y.shape)\n",
        "# print(test_x.shape)\n",
        "# print(test_y.shape)"
      ]
    },
    {
      "cell_type": "markdown",
      "metadata": {
        "id": "-h3jpy6CRe73"
      },
      "source": [
        "# Ml flow"
      ]
    },
    {
      "cell_type": "code",
      "execution_count": null,
      "metadata": {
        "id": "PtKON-J2Rnnp"
      },
      "outputs": [],
      "source": [
        "import requests\n",
        "from getpass import getpass\n",
        "import datetime"
      ]
    },
    {
      "cell_type": "code",
      "execution_count": null,
      "metadata": {
        "colab": {
          "background_save": true
        },
        "id": "daJXnRaBSIQ9"
      },
      "outputs": [],
      "source": [
        "#@title Enter the repository name for the project:\n",
        "\n",
        "REPO_NAME= \"BigCodeGen\" #@param {type:\"string\"}"
      ]
    },
    {
      "cell_type": "code",
      "execution_count": null,
      "metadata": {
        "id": "jgxzaZa_SNYG"
      },
      "outputs": [],
      "source": [
        "#@title Enter the repository name for the project:\n",
        "\n",
        "REPO_OWNER= \"Omdena\" #@param {type:\"string\"}"
      ]
    },
    {
      "cell_type": "code",
      "execution_count": null,
      "metadata": {
        "id": "qkgwt-UISWgS"
      },
      "outputs": [],
      "source": [
        "#@title Enter the username of your DAGsHub account:\n",
        "\n",
        "USER_NAME = \"akito_shine\" #@param {type:\"string\"}"
      ]
    },
    {
      "cell_type": "code",
      "execution_count": null,
      "metadata": {
        "colab": {
          "base_uri": "https://localhost:8080/"
        },
        "id": "Sx1iY0Z8UHPM",
        "outputId": "8dd486eb-745d-4cc2-b628-b4bd112ec9fa"
      },
      "outputs": [
        {
          "name": "stdout",
          "output_type": "stream",
          "text": [
            "Enter your DAGsHub access token or password: ··········\n"
          ]
        }
      ],
      "source": [
        "os.environ['MLFLOW_TRACKING_USERNAME'] = USER_NAME\n",
        "os.environ['MLFLOW_TRACKING_PASSWORD'] = getpass('Enter your DAGsHub access token or password: ')\n",
        "\n",
        "mlflow.set_tracking_uri(f'https://dagshub.com/{REPO_OWNER}/{REPO_NAME}.mlflow')"
      ]
    },
    {
      "cell_type": "markdown",
      "metadata": {
        "id": "bhAmZjilRVrx"
      },
      "source": [
        "# Training"
      ]
    },
    {
      "cell_type": "code",
      "execution_count": null,
      "metadata": {
        "colab": {
          "base_uri": "https://localhost:8080/"
        },
        "id": "5vcv0MSzEVws",
        "outputId": "7698b657-53d2-4acd-a953-e6c21dc1e226"
      },
      "outputs": [
        {
          "name": "stdout",
          "output_type": "stream",
          "text": [
            "Downloading data from https://storage.googleapis.com/keras-applications/efficientnetb3_notop.h5\n",
            "43941136/43941136 [==============================] - 2s 0us/step\n"
          ]
        }
      ],
      "source": [
        "# from tensorflow.keras import layers\n",
        "# # Hyperparameters\n",
        "# IMG_SIZE = 300\n",
        "# BATCH_SIZE = 32\n",
        "# EPOCHS = 10\n",
        "\n",
        "\n",
        "# # Define the input layer\n",
        "# inputs = layers.Input(shape=(IMG_SIZE, IMG_SIZE, 3))\n",
        "\n",
        "# # Load the pre-trained EfficientNetB3 model\n",
        "# base_model = tf.keras.applications.EfficientNetB3(\n",
        "#     include_top=False,\n",
        "#     weights='imagenet',\n",
        "#     input_tensor=inputs,\n",
        "#     input_shape=(IMG_SIZE, IMG_SIZE, 3),\n",
        "#     pooling=None,\n",
        "#     classes=None\n",
        "# )\n",
        "\n",
        "# # Freeze the pre-trained weights\n",
        "# base_model.trainable = False\n",
        "\n",
        "# # Add a new classifier head on top of the base model\n",
        "# x = base_model.output\n",
        "# x = layers.GlobalAveragePooling2D()(x)\n",
        "# x = layers.Dense(128, activation='relu')(x)\n",
        "# x = layers.Dropout(0.5)(x)\n",
        "# outputs = layers.Dense(5, activation='softmax')(x)\n",
        "\n",
        "# # Define the model\n",
        "# model = keras.Model(inputs, outputs)\n",
        "\n",
        "# # Compile the model\n",
        "# model.compile(\n",
        "#     optimizer=tf.keras.optimizers.Adam(learning_rate=0.001),\n",
        "#     loss='categorical_crossentropy',\n",
        "#     metrics=['accuracy']\n",
        "# )\n",
        "\n"
      ]
    },
    {
      "cell_type": "code",
      "execution_count": 8,
      "metadata": {
        "id": "ZhvnOZu87Buv"
      },
      "outputs": [],
      "source": [
        "# # Retrain the EfficientNetB3\n",
        "# from keras.applications.efficientnet import EfficientNetB3\n",
        "# NUM_CLASSES = 3\n",
        "# IMG_SIZE = 300\n",
        "# size = (IMG_SIZE, IMG_SIZE)\n",
        "\n",
        "\n",
        "# inputs = layers.Input(shape=(IMG_SIZE, IMG_SIZE, 3))\n",
        "# outputs = EfficientNetB3(include_top=True, weights=None, classes=NUM_CLASSES)(inputs)\n",
        "# model = tf.keras.Model(inputs, outputs)\n",
        "# opt = tf.keras.optimizers.Adam(learning_rate=0.001)\n",
        "# model.compile(optimizer=opt,loss='categorical_crossentropy',metrics=['accuracy'])\n",
        "# early_stopping = tf.keras.callbacks.EarlyStopping(\n",
        "#                                          patience=9,\n",
        "#                                           restore_best_weights=True)\n",
        "# model_checkpoint = tf.keras.callbacks.ModelCheckpoint('/content/drive/MyDrive/Traffic Prediction/models', save_best_only=True, monitor='val_loss', mode='min')\n",
        "# batch_size=16\n",
        "# #STEP_SIZE_TRAIN = train_generator.n//train_generator.batch_size\n",
        "# #STEP_SIZE_VALID = validation_generator.n//validation_generator.batch_size\n",
        " \n",
        "# # fit model\n"
      ]
    },
    {
      "cell_type": "code",
      "execution_count": null,
      "metadata": {
        "colab": {
          "background_save": true
        },
        "id": "6qqrXSbXVmWt"
      },
      "outputs": [],
      "source": [
        "mlflow.tensorflow.autolog()\n",
        "with mlflow.start_run(nested=True):\n",
        "    mlflow.log_param(\"depth\", 3)\n"
      ]
    },
    {
      "cell_type": "code",
      "execution_count": null,
      "metadata": {
        "colab": {
          "background_save": true,
          "base_uri": "https://localhost:8080/",
          "height": 622
        },
        "id": "BMDp-KnKVnP3",
        "outputId": "1244d5e6-4741-4f67-815d-14a03cfadd80"
      },
      "outputs": [
        {
          "data": {
            "text/html": [
              "\n",
              "        <iframe\n",
              "            width=\"100%\"\n",
              "            height=\"600\"\n",
              "            src=\"https://dagshub.com/Omdena/BigCodeGen/experiments/#/\"\n",
              "            frameborder=\"0\"\n",
              "            allowfullscreen\n",
              "        ></iframe>\n",
              "        "
            ],
            "text/plain": [
              "<IPython.lib.display.IFrame at 0x7fd651aba6a0>"
            ]
          },
          "metadata": {},
          "output_type": "display_data"
        }
      ],
      "source": [
        "display(IPython.display.IFrame(f\"https://dagshub.com/{REPO_OWNER}/{REPO_NAME}/experiments/#/\",'100%',600))"
      ]
    },
    {
      "cell_type": "code",
      "execution_count": null,
      "metadata": {
        "colab": {
          "background_save": true,
          "base_uri": "https://localhost:8080/"
        },
        "id": "biCjY4mC6wcs",
        "outputId": "fd14b949-b6c5-4423-f520-de4c70a6140a"
      },
      "outputs": [
        {
          "name": "stderr",
          "output_type": "stream",
          "text": [
            "2023/02/10 03:39:06 INFO mlflow.utils.autologging_utils: Created MLflow autologging run with ID '89884df5368b453385455296940bcdec', which will track hyperparameters, performance metrics, model artifacts, and lineage information for the current tensorflow workflow\n"
          ]
        },
        {
          "name": "stdout",
          "output_type": "stream",
          "text": [
            "Epoch 1/30\n"
          ]
        },
        {
          "name": "stderr",
          "output_type": "stream",
          "text": [
            "WARNING:tensorflow:Your input ran out of data; interrupting training. Make sure that your dataset or generator can generate at least `steps_per_epoch * epochs` batches (in this case, 58 batches). You may need to use the repeat() function when building your dataset.\n",
            "WARNING:absl:Found untraced functions such as _jit_compiled_convolution_op, _jit_compiled_convolution_op, _jit_compiled_convolution_op, _jit_compiled_convolution_op, _jit_compiled_convolution_op while saving (showing 5 of 130). These functions will not be directly callable after loading.\n",
            "WARNING:urllib3.connectionpool:Retrying (Retry(total=4, connect=5, read=4, redirect=5, status=5)) after connection broken by 'ProtocolError('Connection aborted.', ConnectionResetError(104, 'Connection reset by peer'))': /Omdena/BigCodeGen.mlflow/api/2.0/mlflow/runs/log-batch\n"
          ]
        },
        {
          "name": "stdout",
          "output_type": "stream",
          "text": [
            "234/234 - 2897s - loss: 2.6015 - accuracy: 0.3410 - val_loss: 1.1197 - val_accuracy: 0.3372 - 2897s/epoch - 12s/step\n",
            "Epoch 2/30\n"
          ]
        },
        {
          "name": "stderr",
          "output_type": "stream",
          "text": [
            "WARNING:tensorflow:Early stopping conditioned on metric `val_loss` which is not available. Available metrics are: loss,accuracy\n",
            "WARNING:tensorflow:Can save best model only with val_loss available, skipping.\n",
            "WARNING:urllib3.connectionpool:Retrying (Retry(total=4, connect=5, read=4, redirect=5, status=5)) after connection broken by 'ProtocolError('Connection aborted.', ConnectionResetError(104, 'Connection reset by peer'))': /Omdena/BigCodeGen.mlflow/api/2.0/mlflow/runs/log-batch\n"
          ]
        },
        {
          "name": "stdout",
          "output_type": "stream",
          "text": [
            "234/234 - 2619s - loss: 1.4503 - accuracy: 0.3486 - 2619s/epoch - 11s/step\n",
            "Epoch 3/30\n"
          ]
        },
        {
          "name": "stderr",
          "output_type": "stream",
          "text": [
            "WARNING:tensorflow:Early stopping conditioned on metric `val_loss` which is not available. Available metrics are: loss,accuracy\n",
            "WARNING:tensorflow:Can save best model only with val_loss available, skipping.\n",
            "WARNING:urllib3.connectionpool:Retrying (Retry(total=4, connect=5, read=4, redirect=5, status=5)) after connection broken by 'ProtocolError('Connection aborted.', ConnectionResetError(104, 'Connection reset by peer'))': /Omdena/BigCodeGen.mlflow/api/2.0/mlflow/runs/log-batch\n"
          ]
        },
        {
          "name": "stdout",
          "output_type": "stream",
          "text": [
            "234/234 - 2643s - loss: 1.3308 - accuracy: 0.3291 - 2643s/epoch - 11s/step\n",
            "Epoch 4/30\n"
          ]
        },
        {
          "name": "stderr",
          "output_type": "stream",
          "text": [
            "WARNING:tensorflow:Early stopping conditioned on metric `val_loss` which is not available. Available metrics are: loss,accuracy\n",
            "WARNING:tensorflow:Can save best model only with val_loss available, skipping.\n",
            "WARNING:urllib3.connectionpool:Retrying (Retry(total=4, connect=5, read=4, redirect=5, status=5)) after connection broken by 'ProtocolError('Connection aborted.', ConnectionResetError(104, 'Connection reset by peer'))': /Omdena/BigCodeGen.mlflow/api/2.0/mlflow/runs/log-batch\n"
          ]
        },
        {
          "name": "stdout",
          "output_type": "stream",
          "text": [
            "234/234 - 2622s - loss: 1.2721 - accuracy: 0.3415 - 2622s/epoch - 11s/step\n",
            "Epoch 5/30\n"
          ]
        },
        {
          "name": "stderr",
          "output_type": "stream",
          "text": [
            "WARNING:tensorflow:Early stopping conditioned on metric `val_loss` which is not available. Available metrics are: loss,accuracy\n",
            "WARNING:tensorflow:Can save best model only with val_loss available, skipping.\n"
          ]
        },
        {
          "name": "stdout",
          "output_type": "stream",
          "text": [
            "234/234 - 2662s - loss: 1.2495 - accuracy: 0.3428 - 2662s/epoch - 11s/step\n",
            "Epoch 6/30\n"
          ]
        },
        {
          "name": "stderr",
          "output_type": "stream",
          "text": [
            "WARNING:tensorflow:Early stopping conditioned on metric `val_loss` which is not available. Available metrics are: loss,accuracy\n",
            "WARNING:tensorflow:Can save best model only with val_loss available, skipping.\n"
          ]
        },
        {
          "name": "stdout",
          "output_type": "stream",
          "text": [
            "234/234 - 2719s - loss: 1.2379 - accuracy: 0.3357 - 2719s/epoch - 12s/step\n",
            "Epoch 7/30\n"
          ]
        },
        {
          "name": "stderr",
          "output_type": "stream",
          "text": [
            "WARNING:tensorflow:Early stopping conditioned on metric `val_loss` which is not available. Available metrics are: loss,accuracy\n",
            "WARNING:tensorflow:Can save best model only with val_loss available, skipping.\n",
            "WARNING:urllib3.connectionpool:Retrying (Retry(total=4, connect=5, read=4, redirect=5, status=5)) after connection broken by 'ProtocolError('Connection aborted.', ConnectionResetError(104, 'Connection reset by peer'))': /Omdena/BigCodeGen.mlflow/api/2.0/mlflow/runs/log-batch\n"
          ]
        },
        {
          "name": "stdout",
          "output_type": "stream",
          "text": [
            "234/234 - 2738s - loss: 1.1931 - accuracy: 0.3483 - 2738s/epoch - 12s/step\n",
            "Epoch 8/30\n"
          ]
        },
        {
          "name": "stderr",
          "output_type": "stream",
          "text": [
            "WARNING:tensorflow:Early stopping conditioned on metric `val_loss` which is not available. Available metrics are: loss,accuracy\n",
            "WARNING:tensorflow:Can save best model only with val_loss available, skipping.\n"
          ]
        },
        {
          "name": "stdout",
          "output_type": "stream",
          "text": [
            "234/234 - 2743s - loss: 1.1908 - accuracy: 0.3609 - 2743s/epoch - 12s/step\n",
            "Epoch 9/30\n"
          ]
        },
        {
          "name": "stderr",
          "output_type": "stream",
          "text": [
            "WARNING:tensorflow:Early stopping conditioned on metric `val_loss` which is not available. Available metrics are: loss,accuracy\n",
            "WARNING:tensorflow:Can save best model only with val_loss available, skipping.\n",
            "WARNING:urllib3.connectionpool:Retrying (Retry(total=4, connect=5, read=4, redirect=5, status=5)) after connection broken by 'ProtocolError('Connection aborted.', ConnectionResetError(104, 'Connection reset by peer'))': /Omdena/BigCodeGen.mlflow/api/2.0/mlflow/runs/log-batch\n"
          ]
        },
        {
          "name": "stdout",
          "output_type": "stream",
          "text": [
            "234/234 - 2812s - loss: 1.1756 - accuracy: 0.3710 - 2812s/epoch - 12s/step\n",
            "Epoch 10/30\n"
          ]
        },
        {
          "name": "stderr",
          "output_type": "stream",
          "text": [
            "WARNING:tensorflow:Early stopping conditioned on metric `val_loss` which is not available. Available metrics are: loss,accuracy\n",
            "WARNING:tensorflow:Can save best model only with val_loss available, skipping.\n"
          ]
        },
        {
          "name": "stdout",
          "output_type": "stream",
          "text": [
            "234/234 - 2715s - loss: 1.1294 - accuracy: 0.4031 - 2715s/epoch - 12s/step\n",
            "Epoch 11/30\n"
          ]
        },
        {
          "name": "stderr",
          "output_type": "stream",
          "text": [
            "WARNING:tensorflow:Early stopping conditioned on metric `val_loss` which is not available. Available metrics are: loss,accuracy\n",
            "WARNING:tensorflow:Can save best model only with val_loss available, skipping.\n"
          ]
        },
        {
          "name": "stdout",
          "output_type": "stream",
          "text": [
            "234/234 - 2745s - loss: 1.0906 - accuracy: 0.4505 - 2745s/epoch - 12s/step\n",
            "Epoch 12/30\n"
          ]
        },
        {
          "name": "stderr",
          "output_type": "stream",
          "text": [
            "WARNING:tensorflow:Early stopping conditioned on metric `val_loss` which is not available. Available metrics are: loss,accuracy\n",
            "WARNING:tensorflow:Can save best model only with val_loss available, skipping.\n"
          ]
        },
        {
          "name": "stdout",
          "output_type": "stream",
          "text": [
            "234/234 - 2851s - loss: 1.0573 - accuracy: 0.4828 - 2851s/epoch - 12s/step\n",
            "Epoch 13/30\n"
          ]
        },
        {
          "name": "stderr",
          "output_type": "stream",
          "text": [
            "WARNING:tensorflow:Early stopping conditioned on metric `val_loss` which is not available. Available metrics are: loss,accuracy\n",
            "WARNING:tensorflow:Can save best model only with val_loss available, skipping.\n"
          ]
        },
        {
          "name": "stdout",
          "output_type": "stream",
          "text": [
            "234/234 - 2829s - loss: 1.0301 - accuracy: 0.5093 - 2829s/epoch - 12s/step\n",
            "Epoch 14/30\n"
          ]
        },
        {
          "name": "stderr",
          "output_type": "stream",
          "text": [
            "WARNING:tensorflow:Early stopping conditioned on metric `val_loss` which is not available. Available metrics are: loss,accuracy\n",
            "WARNING:tensorflow:Can save best model only with val_loss available, skipping.\n",
            "WARNING:urllib3.connectionpool:Retrying (Retry(total=4, connect=5, read=4, redirect=5, status=5)) after connection broken by 'ProtocolError('Connection aborted.', ConnectionResetError(104, 'Connection reset by peer'))': /Omdena/BigCodeGen.mlflow/api/2.0/mlflow/runs/log-batch\n"
          ]
        },
        {
          "name": "stdout",
          "output_type": "stream",
          "text": [
            "234/234 - 2822s - loss: 0.9814 - accuracy: 0.5490 - 2822s/epoch - 12s/step\n",
            "Epoch 15/30\n"
          ]
        },
        {
          "name": "stderr",
          "output_type": "stream",
          "text": [
            "WARNING:tensorflow:Early stopping conditioned on metric `val_loss` which is not available. Available metrics are: loss,accuracy\n",
            "WARNING:tensorflow:Can save best model only with val_loss available, skipping.\n"
          ]
        },
        {
          "name": "stdout",
          "output_type": "stream",
          "text": [
            "234/234 - 2820s - loss: 0.9354 - accuracy: 0.5750 - 2820s/epoch - 12s/step\n",
            "Epoch 16/30\n"
          ]
        },
        {
          "name": "stderr",
          "output_type": "stream",
          "text": [
            "WARNING:tensorflow:Early stopping conditioned on metric `val_loss` which is not available. Available metrics are: loss,accuracy\n",
            "WARNING:tensorflow:Can save best model only with val_loss available, skipping.\n"
          ]
        },
        {
          "name": "stdout",
          "output_type": "stream",
          "text": [
            "234/234 - 2807s - loss: 0.8480 - accuracy: 0.6244 - 2807s/epoch - 12s/step\n",
            "Epoch 17/30\n"
          ]
        },
        {
          "name": "stderr",
          "output_type": "stream",
          "text": [
            "WARNING:tensorflow:Early stopping conditioned on metric `val_loss` which is not available. Available metrics are: loss,accuracy\n",
            "WARNING:tensorflow:Can save best model only with val_loss available, skipping.\n",
            "WARNING:urllib3.connectionpool:Retrying (Retry(total=4, connect=5, read=4, redirect=5, status=5)) after connection broken by 'ProtocolError('Connection aborted.', ConnectionResetError(104, 'Connection reset by peer'))': /Omdena/BigCodeGen.mlflow/api/2.0/mlflow/runs/log-batch\n"
          ]
        },
        {
          "name": "stdout",
          "output_type": "stream",
          "text": [
            "234/234 - 2713s - loss: 0.8175 - accuracy: 0.6386 - 2713s/epoch - 12s/step\n",
            "Epoch 18/30\n"
          ]
        },
        {
          "name": "stderr",
          "output_type": "stream",
          "text": [
            "WARNING:tensorflow:Early stopping conditioned on metric `val_loss` which is not available. Available metrics are: loss,accuracy\n",
            "WARNING:tensorflow:Can save best model only with val_loss available, skipping.\n",
            "WARNING:urllib3.connectionpool:Retrying (Retry(total=4, connect=5, read=4, redirect=5, status=5)) after connection broken by 'ProtocolError('Connection aborted.', ConnectionResetError(104, 'Connection reset by peer'))': /Omdena/BigCodeGen.mlflow/api/2.0/mlflow/runs/log-batch\n"
          ]
        },
        {
          "name": "stdout",
          "output_type": "stream",
          "text": [
            "234/234 - 2621s - loss: 0.7754 - accuracy: 0.6651 - 2621s/epoch - 11s/step\n",
            "Epoch 19/30\n"
          ]
        },
        {
          "name": "stderr",
          "output_type": "stream",
          "text": [
            "WARNING:tensorflow:Early stopping conditioned on metric `val_loss` which is not available. Available metrics are: loss,accuracy\n",
            "WARNING:tensorflow:Can save best model only with val_loss available, skipping.\n"
          ]
        },
        {
          "name": "stdout",
          "output_type": "stream",
          "text": [
            "234/234 - 2618s - loss: 0.7890 - accuracy: 0.6706 - 2618s/epoch - 11s/step\n",
            "Epoch 20/30\n"
          ]
        },
        {
          "name": "stderr",
          "output_type": "stream",
          "text": [
            "WARNING:tensorflow:Early stopping conditioned on metric `val_loss` which is not available. Available metrics are: loss,accuracy\n",
            "WARNING:tensorflow:Can save best model only with val_loss available, skipping.\n"
          ]
        },
        {
          "name": "stdout",
          "output_type": "stream",
          "text": [
            "234/234 - 2612s - loss: 0.6892 - accuracy: 0.7019 - 2612s/epoch - 11s/step\n",
            "Epoch 21/30\n"
          ]
        },
        {
          "name": "stderr",
          "output_type": "stream",
          "text": [
            "WARNING:tensorflow:Early stopping conditioned on metric `val_loss` which is not available. Available metrics are: loss,accuracy\n",
            "WARNING:tensorflow:Can save best model only with val_loss available, skipping.\n"
          ]
        },
        {
          "name": "stdout",
          "output_type": "stream",
          "text": [
            "234/234 - 2626s - loss: 0.6244 - accuracy: 0.7378 - 2626s/epoch - 11s/step\n",
            "Epoch 22/30\n"
          ]
        },
        {
          "name": "stderr",
          "output_type": "stream",
          "text": [
            "WARNING:tensorflow:Early stopping conditioned on metric `val_loss` which is not available. Available metrics are: loss,accuracy\n",
            "WARNING:tensorflow:Can save best model only with val_loss available, skipping.\n"
          ]
        },
        {
          "name": "stdout",
          "output_type": "stream",
          "text": [
            "234/234 - 2746s - loss: 0.6671 - accuracy: 0.7135 - 2746s/epoch - 12s/step\n",
            "Epoch 23/30\n"
          ]
        },
        {
          "name": "stderr",
          "output_type": "stream",
          "text": [
            "WARNING:tensorflow:Early stopping conditioned on metric `val_loss` which is not available. Available metrics are: loss,accuracy\n",
            "WARNING:tensorflow:Can save best model only with val_loss available, skipping.\n"
          ]
        },
        {
          "name": "stdout",
          "output_type": "stream",
          "text": [
            "234/234 - 2529s - loss: 0.5348 - accuracy: 0.7771 - 2529s/epoch - 11s/step\n",
            "Epoch 24/30\n"
          ]
        },
        {
          "name": "stderr",
          "output_type": "stream",
          "text": [
            "WARNING:tensorflow:Early stopping conditioned on metric `val_loss` which is not available. Available metrics are: loss,accuracy\n",
            "WARNING:tensorflow:Can save best model only with val_loss available, skipping.\n",
            "WARNING:urllib3.connectionpool:Retrying (Retry(total=4, connect=5, read=4, redirect=5, status=5)) after connection broken by 'ProtocolError('Connection aborted.', ConnectionResetError(104, 'Connection reset by peer'))': /Omdena/BigCodeGen.mlflow/api/2.0/mlflow/runs/log-batch\n"
          ]
        },
        {
          "name": "stdout",
          "output_type": "stream",
          "text": [
            "234/234 - 2543s - loss: 0.5661 - accuracy: 0.7585 - 2543s/epoch - 11s/step\n",
            "Epoch 25/30\n"
          ]
        },
        {
          "name": "stderr",
          "output_type": "stream",
          "text": [
            "WARNING:tensorflow:Early stopping conditioned on metric `val_loss` which is not available. Available metrics are: loss,accuracy\n",
            "WARNING:tensorflow:Can save best model only with val_loss available, skipping.\n",
            "WARNING:urllib3.connectionpool:Retrying (Retry(total=4, connect=5, read=4, redirect=5, status=5)) after connection broken by 'ProtocolError('Connection aborted.', ConnectionResetError(104, 'Connection reset by peer'))': /Omdena/BigCodeGen.mlflow/api/2.0/mlflow/runs/log-batch\n"
          ]
        },
        {
          "name": "stdout",
          "output_type": "stream",
          "text": [
            "234/234 - 2475s - loss: 0.4599 - accuracy: 0.8120 - 2475s/epoch - 11s/step\n",
            "Epoch 26/30\n"
          ]
        },
        {
          "name": "stderr",
          "output_type": "stream",
          "text": [
            "WARNING:tensorflow:Early stopping conditioned on metric `val_loss` which is not available. Available metrics are: loss,accuracy\n",
            "WARNING:tensorflow:Can save best model only with val_loss available, skipping.\n",
            "WARNING:urllib3.connectionpool:Retrying (Retry(total=4, connect=5, read=4, redirect=5, status=5)) after connection broken by 'ProtocolError('Connection aborted.', ConnectionResetError(104, 'Connection reset by peer'))': /Omdena/BigCodeGen.mlflow/api/2.0/mlflow/runs/log-batch\n"
          ]
        },
        {
          "name": "stdout",
          "output_type": "stream",
          "text": [
            "234/234 - 2446s - loss: 0.4302 - accuracy: 0.8304 - 2446s/epoch - 10s/step\n",
            "Epoch 27/30\n"
          ]
        },
        {
          "name": "stderr",
          "output_type": "stream",
          "text": [
            "WARNING:tensorflow:Early stopping conditioned on metric `val_loss` which is not available. Available metrics are: loss,accuracy\n",
            "WARNING:tensorflow:Can save best model only with val_loss available, skipping.\n"
          ]
        },
        {
          "name": "stdout",
          "output_type": "stream",
          "text": [
            "234/234 - 2456s - loss: 0.4139 - accuracy: 0.8332 - 2456s/epoch - 10s/step\n",
            "Epoch 28/30\n"
          ]
        },
        {
          "name": "stderr",
          "output_type": "stream",
          "text": [
            "WARNING:tensorflow:Early stopping conditioned on metric `val_loss` which is not available. Available metrics are: loss,accuracy\n",
            "WARNING:tensorflow:Can save best model only with val_loss available, skipping.\n"
          ]
        },
        {
          "name": "stdout",
          "output_type": "stream",
          "text": [
            "234/234 - 2556s - loss: 0.3690 - accuracy: 0.8571 - 2556s/epoch - 11s/step\n",
            "Epoch 29/30\n"
          ]
        },
        {
          "name": "stderr",
          "output_type": "stream",
          "text": [
            "WARNING:tensorflow:Your input ran out of data; interrupting training. Make sure that your dataset or generator can generate at least `steps_per_epoch * epochs` batches (in this case, 7020 batches). You may need to use the repeat() function when building your dataset.\n",
            "WARNING:tensorflow:Early stopping conditioned on metric `val_loss` which is not available. Available metrics are: loss,accuracy\n",
            "WARNING:tensorflow:Can save best model only with val_loss available, skipping.\n",
            "WARNING:urllib3.connectionpool:Retrying (Retry(total=4, connect=5, read=4, redirect=5, status=5)) after connection broken by 'ProtocolError('Connection aborted.', ConnectionResetError(104, 'Connection reset by peer'))': /Omdena/BigCodeGen.mlflow/api/2.0/mlflow/runs/log-batch\n"
          ]
        },
        {
          "name": "stdout",
          "output_type": "stream",
          "text": [
            "234/234 - 1210s - loss: 0.4380 - accuracy: 0.8220 - 1210s/epoch - 5s/step\n",
            "1/1 [==============================] - 49s 49s/step\n"
          ]
        },
        {
          "name": "stderr",
          "output_type": "stream",
          "text": [
            "WARNING:absl:Found untraced functions such as _jit_compiled_convolution_op, _jit_compiled_convolution_op, _jit_compiled_convolution_op, _jit_compiled_convolution_op, _jit_compiled_convolution_op while saving (showing 5 of 130). These functions will not be directly callable after loading.\n",
            "2023/02/11 00:52:09 WARNING mlflow.utils.environment: Encountered an unexpected error while inferring pip requirements (model URI: /tmp/tmpceygjnu8/model, flavor: tensorflow), fall back to return ['tensorflow==2.9.2']. Set logging level to DEBUG to see the full traceback.\n"
          ]
        }
      ],
      "source": [
        "with tf.device('/GPU:0'):\n",
        "  history = model.fit(train_x, train_y,steps_per_epoch=3758//batch_size,validation_data=(test_x, test_y),validation_steps=940//batch_size, workers = 2,epochs=30, verbose=2, callbacks = [early_stopping, model_checkpoint])#])#"
      ]
    },
    {
      "cell_type": "code",
      "execution_count": null,
      "metadata": {
        "colab": {
          "background_save": true
        },
        "id": "ZrNA9yDmGIhW"
      },
      "outputs": [],
      "source": [
        "model.save(\"/content/drive/MyDrive/Traffic Prediction/models/ep30/efficientnet_b3_ep30.h5\")"
      ]
    },
    {
      "cell_type": "code",
      "execution_count": null,
      "metadata": {
        "id": "DCHTYShDDZLm"
      },
      "outputs": [],
      "source": [
        "# loaded_model=tf.keras.models.load_model('/content/drive/MyDrive/Traffic Prediction/models/ep30/efficientnet_b3_ep30.h5')\n",
        "loaded_model=tf.keras.models.load_model('/content/drive/MyDrive/Traffic Prediction/models/ep30/efficientnet_b3_ep30.h5')"
      ]
    },
    {
      "cell_type": "code",
      "execution_count": 9,
      "metadata": {
        "id": "dsZ_uDnYcLDg"
      },
      "outputs": [],
      "source": [
        "history = loaded_model.fit()"
      ]
    },
    {
      "cell_type": "code",
      "execution_count": null,
      "metadata": {
        "colab": {
          "background_save": true
        },
        "id": "lHENF6DxGOJt",
        "outputId": "a2f7ec79-ed0c-421f-acfc-007ea967e1fe"
      },
      "outputs": [
        {
          "data": {
            "text/plain": [
              "Text(0.5, 1.0, '\\nTraining and Validation Accuracy. \\nTrain Accuracy:0.8219780325889587\\nValidation Accuracy: 0.3372340500354767')"
            ]
          },
          "execution_count": 32,
          "metadata": {},
          "output_type": "execute_result"
        },
        {
          "data": {
            "image/png": "[encoded data removed]",
            "text/plain": [
              "<Figure size 720x1152 with 1 Axes>"
            ]
          },
          "metadata": {},
          "output_type": "display_data"
        }
      ],
      "source": [
        "# store results\n",
        "acc = history.history['accuracy']\n",
        "val_acc = history.history['val_accuracy']\n",
        "loss = history.history['loss']\n",
        "val_loss = history.history['val_loss']\n",
        " \n",
        "# plot results\n",
        "# accuracy\n",
        "plt.figure(figsize=(10, 16))\n",
        "plt.rcParams['figure.figsize'] = [16, 9]\n",
        "plt.rcParams['font.size'] = 14\n",
        "plt.rcParams['axes.grid'] = True\n",
        "plt.rcParams['figure.facecolor'] = 'white'\n",
        "plt.subplot(2, 1, 1)\n",
        "plt.plot(acc, label='Training Accuracy')\n",
        "plt.plot(val_acc, label='Validation Accuracy')\n",
        "plt.legend(loc='lower right')\n",
        "plt.ylabel('Accuracy')\n",
        "plt.title(f'\\nTraining and Validation Accuracy. \\nTrain Accuracy:{str(acc[-1])}\\nValidation Accuracy: {str(val_acc[-1])}')"
      ]
    },
    {
      "cell_type": "code",
      "execution_count": null,
      "metadata": {
        "colab": {
          "background_save": true
        },
        "id": "ATeJtRgwGUsm",
        "outputId": "4a542837-c219-4d6c-a1e4-3348df24b94d"
      },
      "outputs": [
        {
          "data": {
            "image/png": "[encoded data removed]",
            "text/plain": [
              "<Figure size 1152x648 with 1 Axes>"
            ]
          },
          "metadata": {},
          "output_type": "display_data"
        }
      ],
      "source": [
        "plt.subplot(2, 1, 2)\n",
        "plt.plot(loss, label='Training Loss')\n",
        "plt.plot(val_loss, label='Validation Loss')\n",
        "plt.legend(loc='upper right')\n",
        "plt.ylabel('Cross Entropy')\n",
        "plt.title(f'Training and Validation Loss. \\nTrain Loss:{str(loss[-1])}\\nValidation Loss: {str(val_loss[-1])}')\n",
        "plt.xlabel('epoch')\n",
        "plt.tight_layout(pad=3.0)\n",
        "plt.show()"
      ]
    },
    {
      "cell_type": "code",
      "execution_count": null,
      "metadata": {
        "colab": {
          "base_uri": "https://localhost:8080/"
        },
        "id": "bf8GP7iFjO_G",
        "outputId": "04f4d3b8-0432-4c72-f25e-0eee23349cb8"
      },
      "outputs": [
        {
          "name": "stdout",
          "output_type": "stream",
          "text": [
            "(1968, 300, 300, 3)\n"
          ]
        }
      ],
      "source": [
        "print(test_x.shape)\n"
      ]
    },
    {
      "cell_type": "code",
      "execution_count": null,
      "metadata": {
        "colab": {
          "base_uri": "https://localhost:8080/"
        },
        "id": "PiMmmzJZjyNj",
        "outputId": "ba2f5210-3063-4dfb-c12c-abf8142e85ca"
      },
      "outputs": [
        {
          "output_type": "stream",
          "name": "stdout",
          "text": [
            "30/30 [==============================] - 154s 5s/step - loss: 1.2959 - accuracy: 0.5787\n",
            "Test accuracy: 57.87%\n"
          ]
        }
      ],
      "source": [
        "test_loss, test_acc = loaded_model.evaluate(test_x, test_y)\n",
        "\n",
        "print('Test accuracy: {:2.2f}%'.format(test_acc*100))"
      ]
    },
    {
      "cell_type": "code",
      "execution_count": null,
      "metadata": {
        "id": "RWVXO6L4Gjtu"
      },
      "outputs": [],
      "source": [
        "# class_names = df['class'].unique()\n",
        "# predictions = []\n",
        "# real_val=[]\n",
        "# i=0\n",
        "\n",
        "# #for image in sample.id:\n",
        "# for img in df['id'][20:50]:\n",
        "#   # print(img)\n",
        "#   # if img in df['id'][:577]:\n",
        "#     # img = tf.keras.preprocessing.image.load_img(\"/content/drive/MyDrive/dataset/test/\"+img_fold+'/'+test_x)\n",
        "#       image = img\n",
        "\n",
        "#       class_idx = df['id'].tolist().index(img)\n",
        "#       real_val.append(df['class'][class_idx])\n",
        "#       img = img = tf.keras.preprocessing.image.load_img(\"/content/drive/MyDrive/dataset/train/\"+df['class'][class_idx]+'/'+img)\n",
        "#       img = tf.keras.preprocessing.image.img_to_array(img)\n",
        "#       img = tf.keras.preprocessing.image.smart_resize(img, (300, 300))\n",
        "#       img = tf.reshape(img, (-1, 300, 300, 3))\n",
        "#       prediction = model.predict(img/255)\n",
        "#       predictions.append(class_names[np.argmax(prediction)])\n",
        "#       plt.figure(figsize=[15, 10])\n",
        "#       img1 = cv2.imread(\"/content/drive/MyDrive/dataset/train/\"+df['class'][class_idx]+'/'+image)\n",
        "#       plt.subplot(5, 5, 1)\n",
        "#       plt.imshow(img1)\n",
        "#       plt.title(class_names[np.argmax(prediction)])\n",
        "#       plt.axis('off')"
      ]
    },
    {
      "cell_type": "code",
      "execution_count": null,
      "metadata": {
        "colab": {
          "base_uri": "https://localhost:8080/"
        },
        "id": "wi_hrusxlkvx",
        "outputId": "65318989-5142-48a3-b551-60a4b1ec2ad8"
      },
      "outputs": [
        {
          "output_type": "stream",
          "name": "stdout",
          "text": [
            "[0. 0. 0. 0. 1.]\n"
          ]
        }
      ],
      "source": [
        "print(Y[0])"
      ]
    },
    {
      "cell_type": "code",
      "execution_count": null,
      "metadata": {
        "colab": {
          "base_uri": "https://localhost:8080/"
        },
        "id": "JmmtBRQhlMAl",
        "outputId": "6b407553-54d7-4a5f-f394-162fe1146a05"
      },
      "outputs": [
        {
          "output_type": "stream",
          "name": "stdout",
          "text": [
            "7/7 [==============================] - 37s 5s/step\n"
          ]
        }
      ],
      "source": [
        "# y_pred = loaded_model.predict(test_x) # Make predictions towards the test set\n",
        "Y_pred=loaded_model.predict(images)\n"
      ]
    },
    {
      "cell_type": "code",
      "execution_count": null,
      "metadata": {
        "id": "P7yjZs2snTwC"
      },
      "outputs": [],
      "source": [
        "Y_pred_classes=np.argmax(Y_pred,axis=1)"
      ]
    },
    {
      "cell_type": "code",
      "execution_count": null,
      "metadata": {
        "id": "bRHi1xWNl1hD"
      },
      "outputs": [],
      "source": [
        "# np.argmax(predictions[0]), test_y[0] # If same, got it right\n"
      ]
    },
    {
      "cell_type": "code",
      "execution_count": null,
      "metadata": {
        "id": "OtQxIJTRlPgw"
      },
      "outputs": [],
      "source": [
        "y_test=np.argmax(Y,axis=1)"
      ]
    },
    {
      "cell_type": "code",
      "execution_count": null,
      "metadata": {
        "colab": {
          "base_uri": "https://localhost:8080/",
          "height": 296
        },
        "id": "AMZG9Zl7q_ma",
        "outputId": "94a350ac-cf93-478b-bd03-20b35a6d44e6"
      },
      "outputs": [
        {
          "output_type": "execute_result",
          "data": {
            "text/plain": [
              "<sklearn.metrics._plot.confusion_matrix.ConfusionMatrixDisplay at 0x7f8da05d8670>"
            ]
          },
          "metadata": {},
          "execution_count": 82
        },
        {
          "output_type": "display_data",
          "data": {
            "text/plain": [
              "<Figure size 432x288 with 2 Axes>"
            ],
            "image/png": "[encoded data removed]"
          },
          "metadata": {
            "needs_background": "light"
          }
        }
      ],
      "source": [
        "clabels = ['hc', 'lc','mc']\n",
        "cm =confusion_matrix(y_test, Y_pred_classes)\n",
        "cmd = ConfusionMatrixDisplay(cm, display_labels=clabels)\n",
        "cmd.plot()"
      ]
    },
    {
      "cell_type": "markdown",
      "metadata": {
        "id": "qWaycFu-sAMy"
      },
      "source": [
        "#Adding to benchmark csv"
      ]
    },
    {
      "cell_type": "code",
      "execution_count": null,
      "metadata": {
        "id": "Z5mqSM2tsC5X"
      },
      "outputs": [],
      "source": [
        "# load resized ottawa benchmark set\n",
        "dir_path = r'/content/drive/MyDrive/Traffic Prediction/resized ottawa benchmark set/test'\n",
        "# Iterate directory\n",
        "for os_folder in os.listdir(dir_path):\n",
        "  if os.path.isdir(os.path.join(dir_path, os_folder)):\n",
        "    for fold in os.listdir(dir_path+'/'+os_folder):\n",
        "      if os.path.isdir(os.path.join(dir_path+'/'+os_folder, fold)):\n",
        "        count = 0\n",
        "        for path in os.listdir(dir_path+'/'+ os_folder + '/' + fold):\n",
        "            # check if current path is a file\n",
        "            if os.path.isfile(os.path.join(dir_path+'/'+ os_folder + '/' + fold, path)):\n",
        "                count += 1\n",
        "        print(os_folder, fold, count)        "
      ]
    },
    {
      "cell_type": "code",
      "execution_count": null,
      "metadata": {
        "colab": {
          "base_uri": "https://localhost:8080/",
          "height": 543
        },
        "id": "JjeXXVXt-dJC",
        "outputId": "4dfc6448-d588-4d7e-9762-54ec28e82aff"
      },
      "outputs": [
        {
          "output_type": "execute_result",
          "data": {
            "text/plain": [
              "   Unnamed: 0    Unnamed: 1  Unnamed: 2             Unnamed: 3  \\\n",
              "0         NaN  Unnamed: 0.1  Unnamed: 0                jpg_uid   \n",
              "1         0.0             0           0  2025_2022-12-23-09-50   \n",
              "2         1.0             1           1  2019_2022-12-23-09-50   \n",
              "3         2.0             2           2  2005_2022-12-23-09-50   \n",
              "4         3.0             3           3  2029_2022-12-23-09-50   \n",
              "\n",
              "                                          Unnamed: 4  \\\n",
              "0                                           jpg_name   \n",
              "1  2022-12-23-09-50_MTO_(MTO) Hwy 416 NB ramp to ...   \n",
              "2  2022-12-23-09-50_MTO_(MTO) Hwy 417 Near Belfas...   \n",
              "3  2022-12-23-09-50_MTO_(MTO) Hwy 417 between Hol...   \n",
              "4  2022-12-23-09-50_MTO_(MTO) Hwy 417 east of Eag...   \n",
              "\n",
              "                                          Unnamed: 5  Unnamed: 6  \\\n",
              "0                                       csv_img_name  cam_number   \n",
              "1            202212230950Hwy416NBramptoHwy417Eastjpg        2025   \n",
              "2                 202212230950Hwy417NearBelfastRdjpg        2019   \n",
              "3  202212230950Hwy417betweenHollandAveandParkdale...        2005   \n",
              "4              202212230950Hwy417eastofEaglesonRdjpg        2029   \n",
              "\n",
              "         Unnamed: 7 Unnamed: 8                       Unnamed: 9  ...  \\\n",
              "0     jpg_timestamp  Clustered                       camera_loc  ...   \n",
              "1  2022-12-23-09-50       TRUE  Hwy_416_NB_ramp_to_Hwy_417_East  ...   \n",
              "2  2022-12-23-09-50       TRUE          Hwy_417_Near_Belfast_Rd  ...   \n",
              "3  2022-12-23-09-50      FALSE                              NaN  ...   \n",
              "4  2022-12-23-09-50       TRUE      Hwy_417_east_of_Eagleson_Rd  ...   \n",
              "\n",
              "       Unnamed: 16        Unnamed: 17       Unnamed: 18        Unnamed: 19  \\\n",
              "0  blurry_yolo_use  blurry_yolo_class  blurry_yolo_pred  blurry_yolo_score   \n",
              "1               na                 na             clear               0.78   \n",
              "2               na                 na             clear               0.75   \n",
              "3               na                 na             clear               0.99   \n",
              "4               na                 na             clear               0.99   \n",
              "\n",
              "    Unnamed: 20 Unnamed: 21        Unnamed: 22             Dhanya  \\\n",
              "0  ground_truth    test_set  prev_ground_truth  in_efficientnetB3   \n",
              "1           Low       FALSE                Low                  y   \n",
              "2           Low       FALSE                Low                  y   \n",
              "3           Low       FALSE                Low                  y   \n",
              "4           Low       FALSE                Low                  y   \n",
              "\n",
              "      Dhanya.1     Dhanya.2  \n",
              "0  class_effB3  group_effB3  \n",
              "1         High        train  \n",
              "2         High        train  \n",
              "3         High        train  \n",
              "4          Low        train  \n",
              "\n",
              "[5 rows x 26 columns]"
            ],
            "text/html": [
              "\n",
              "  <div id=\"df-e3dfae1d-a8ad-4179-8b67-d6a144f73d4e\">\n",
              "    <div class=\"colab-df-container\">\n",
              "      <div>\n",
              "<style scoped>\n",
              "    .dataframe tbody tr th:only-of-type {\n",
              "        vertical-align: middle;\n",
              "    }\n",
              "\n",
              "    .dataframe tbody tr th {\n",
              "        vertical-align: top;\n",
              "    }\n",
              "\n",
              "    .dataframe thead th {\n",
              "        text-align: right;\n",
              "    }\n",
              "</style>\n",
              "<table border=\"1\" class=\"dataframe\">\n",
              "  <thead>\n",
              "    <tr style=\"text-align: right;\">\n",
              "      <th></th>\n",
              "      <th>Unnamed: 0</th>\n",
              "      <th>Unnamed: 1</th>\n",
              "      <th>Unnamed: 2</th>\n",
              "      <th>Unnamed: 3</th>\n",
              "      <th>Unnamed: 4</th>\n",
              "      <th>Unnamed: 5</th>\n",
              "      <th>Unnamed: 6</th>\n",
              "      <th>Unnamed: 7</th>\n",
              "      <th>Unnamed: 8</th>\n",
              "      <th>Unnamed: 9</th>\n",
              "      <th>...</th>\n",
              "      <th>Unnamed: 16</th>\n",
              "      <th>Unnamed: 17</th>\n",
              "      <th>Unnamed: 18</th>\n",
              "      <th>Unnamed: 19</th>\n",
              "      <th>Unnamed: 20</th>\n",
              "      <th>Unnamed: 21</th>\n",
              "      <th>Unnamed: 22</th>\n",
              "      <th>Dhanya</th>\n",
              "      <th>Dhanya.1</th>\n",
              "      <th>Dhanya.2</th>\n",
              "    </tr>\n",
              "  </thead>\n",
              "  <tbody>\n",
              "    <tr>\n",
              "      <th>0</th>\n",
              "      <td>NaN</td>\n",
              "      <td>Unnamed: 0.1</td>\n",
              "      <td>Unnamed: 0</td>\n",
              "      <td>jpg_uid</td>\n",
              "      <td>jpg_name</td>\n",
              "      <td>csv_img_name</td>\n",
              "      <td>cam_number</td>\n",
              "      <td>jpg_timestamp</td>\n",
              "      <td>Clustered</td>\n",
              "      <td>camera_loc</td>\n",
              "      <td>...</td>\n",
              "      <td>blurry_yolo_use</td>\n",
              "      <td>blurry_yolo_class</td>\n",
              "      <td>blurry_yolo_pred</td>\n",
              "      <td>blurry_yolo_score</td>\n",
              "      <td>ground_truth</td>\n",
              "      <td>test_set</td>\n",
              "      <td>prev_ground_truth</td>\n",
              "      <td>in_efficientnetB3</td>\n",
              "      <td>class_effB3</td>\n",
              "      <td>group_effB3</td>\n",
              "    </tr>\n",
              "    <tr>\n",
              "      <th>1</th>\n",
              "      <td>0.0</td>\n",
              "      <td>0</td>\n",
              "      <td>0</td>\n",
              "      <td>2025_2022-12-23-09-50</td>\n",
              "      <td>2022-12-23-09-50_MTO_(MTO) Hwy 416 NB ramp to ...</td>\n",
              "      <td>202212230950Hwy416NBramptoHwy417Eastjpg</td>\n",
              "      <td>2025</td>\n",
              "      <td>2022-12-23-09-50</td>\n",
              "      <td>TRUE</td>\n",
              "      <td>Hwy_416_NB_ramp_to_Hwy_417_East</td>\n",
              "      <td>...</td>\n",
              "      <td>na</td>\n",
              "      <td>na</td>\n",
              "      <td>clear</td>\n",
              "      <td>0.78</td>\n",
              "      <td>Low</td>\n",
              "      <td>FALSE</td>\n",
              "      <td>Low</td>\n",
              "      <td>y</td>\n",
              "      <td>High</td>\n",
              "      <td>train</td>\n",
              "    </tr>\n",
              "    <tr>\n",
              "      <th>2</th>\n",
              "      <td>1.0</td>\n",
              "      <td>1</td>\n",
              "      <td>1</td>\n",
              "      <td>2019_2022-12-23-09-50</td>\n",
              "      <td>2022-12-23-09-50_MTO_(MTO) Hwy 417 Near Belfas...</td>\n",
              "      <td>202212230950Hwy417NearBelfastRdjpg</td>\n",
              "      <td>2019</td>\n",
              "      <td>2022-12-23-09-50</td>\n",
              "      <td>TRUE</td>\n",
              "      <td>Hwy_417_Near_Belfast_Rd</td>\n",
              "      <td>...</td>\n",
              "      <td>na</td>\n",
              "      <td>na</td>\n",
              "      <td>clear</td>\n",
              "      <td>0.75</td>\n",
              "      <td>Low</td>\n",
              "      <td>FALSE</td>\n",
              "      <td>Low</td>\n",
              "      <td>y</td>\n",
              "      <td>High</td>\n",
              "      <td>train</td>\n",
              "    </tr>\n",
              "    <tr>\n",
              "      <th>3</th>\n",
              "      <td>2.0</td>\n",
              "      <td>2</td>\n",
              "      <td>2</td>\n",
              "      <td>2005_2022-12-23-09-50</td>\n",
              "      <td>2022-12-23-09-50_MTO_(MTO) Hwy 417 between Hol...</td>\n",
              "      <td>202212230950Hwy417betweenHollandAveandParkdale...</td>\n",
              "      <td>2005</td>\n",
              "      <td>2022-12-23-09-50</td>\n",
              "      <td>FALSE</td>\n",
              "      <td>NaN</td>\n",
              "      <td>...</td>\n",
              "      <td>na</td>\n",
              "      <td>na</td>\n",
              "      <td>clear</td>\n",
              "      <td>0.99</td>\n",
              "      <td>Low</td>\n",
              "      <td>FALSE</td>\n",
              "      <td>Low</td>\n",
              "      <td>y</td>\n",
              "      <td>High</td>\n",
              "      <td>train</td>\n",
              "    </tr>\n",
              "    <tr>\n",
              "      <th>4</th>\n",
              "      <td>3.0</td>\n",
              "      <td>3</td>\n",
              "      <td>3</td>\n",
              "      <td>2029_2022-12-23-09-50</td>\n",
              "      <td>2022-12-23-09-50_MTO_(MTO) Hwy 417 east of Eag...</td>\n",
              "      <td>202212230950Hwy417eastofEaglesonRdjpg</td>\n",
              "      <td>2029</td>\n",
              "      <td>2022-12-23-09-50</td>\n",
              "      <td>TRUE</td>\n",
              "      <td>Hwy_417_east_of_Eagleson_Rd</td>\n",
              "      <td>...</td>\n",
              "      <td>na</td>\n",
              "      <td>na</td>\n",
              "      <td>clear</td>\n",
              "      <td>0.99</td>\n",
              "      <td>Low</td>\n",
              "      <td>FALSE</td>\n",
              "      <td>Low</td>\n",
              "      <td>y</td>\n",
              "      <td>Low</td>\n",
              "      <td>train</td>\n",
              "    </tr>\n",
              "  </tbody>\n",
              "</table>\n",
              "<p>5 rows × 26 columns</p>\n",
              "</div>\n",
              "      <button class=\"colab-df-convert\" onclick=\"convertToInteractive('df-e3dfae1d-a8ad-4179-8b67-d6a144f73d4e')\"\n",
              "              title=\"Convert this dataframe to an interactive table.\"\n",
              "              style=\"display:none;\">\n",
              "        \n",
              "  <svg xmlns=\"http://www.w3.org/2000/svg\" height=\"24px\"viewBox=\"0 0 24 24\"\n",
              "       width=\"24px\">\n",
              "    <path d=\"M0 0h24v24H0V0z\" fill=\"none\"/>\n",
              "    <path d=\"M18.56 5.44l.94 2.06.94-2.06 2.06-.94-2.06-.94-.94-2.06-.94 2.06-2.06.94zm-11 1L8.5 8.5l.94-2.06 2.06-.94-2.06-.94L8.5 2.5l-.94 2.06-2.06.94zm10 10l.94 2.06.94-2.06 2.06-.94-2.06-.94-.94-2.06-.94 2.06-2.06.94z\"/><path d=\"M17.41 7.96l-1.37-1.37c-.4-.4-.92-.59-1.43-.59-.52 0-1.04.2-1.43.59L10.3 9.45l-7.72 7.72c-.78.78-.78 2.05 0 2.83L4 21.41c.39.39.9.59 1.41.59.51 0 1.02-.2 1.41-.59l7.78-7.78 2.81-2.81c.8-.78.8-2.07 0-2.86zM5.41 20L4 18.59l7.72-7.72 1.47 1.35L5.41 20z\"/>\n",
              "  </svg>\n",
              "      </button>\n",
              "      \n",
              "  <style>\n",
              "    .colab-df-container {\n",
              "      display:flex;\n",
              "      flex-wrap:wrap;\n",
              "      gap: 12px;\n",
              "    }\n",
              "\n",
              "    .colab-df-convert {\n",
              "      background-color: #E8F0FE;\n",
              "      border: none;\n",
              "      border-radius: 50%;\n",
              "      cursor: pointer;\n",
              "      display: none;\n",
              "      fill: #1967D2;\n",
              "      height: 32px;\n",
              "      padding: 0 0 0 0;\n",
              "      width: 32px;\n",
              "    }\n",
              "\n",
              "    .colab-df-convert:hover {\n",
              "      background-color: #E2EBFA;\n",
              "      box-shadow: 0px 1px 2px rgba(60, 64, 67, 0.3), 0px 1px 3px 1px rgba(60, 64, 67, 0.15);\n",
              "      fill: #174EA6;\n",
              "    }\n",
              "\n",
              "    [theme=dark] .colab-df-convert {\n",
              "      background-color: #3B4455;\n",
              "      fill: #D2E3FC;\n",
              "    }\n",
              "\n",
              "    [theme=dark] .colab-df-convert:hover {\n",
              "      background-color: #434B5C;\n",
              "      box-shadow: 0px 1px 3px 1px rgba(0, 0, 0, 0.15);\n",
              "      filter: drop-shadow(0px 1px 2px rgba(0, 0, 0, 0.3));\n",
              "      fill: #FFFFFF;\n",
              "    }\n",
              "  </style>\n",
              "\n",
              "      <script>\n",
              "        const buttonEl =\n",
              "          document.querySelector('#df-e3dfae1d-a8ad-4179-8b67-d6a144f73d4e button.colab-df-convert');\n",
              "        buttonEl.style.display =\n",
              "          google.colab.kernel.accessAllowed ? 'block' : 'none';\n",
              "\n",
              "        async function convertToInteractive(key) {\n",
              "          const element = document.querySelector('#df-e3dfae1d-a8ad-4179-8b67-d6a144f73d4e');\n",
              "          const dataTable =\n",
              "            await google.colab.kernel.invokeFunction('convertToInteractive',\n",
              "                                                     [key], {});\n",
              "          if (!dataTable) return;\n",
              "\n",
              "          const docLinkHtml = 'Like what you see? Visit the ' +\n",
              "            '<a target=\"_blank\" href=https://colab.research.google.com/notebooks/data_table.ipynb>data table notebook</a>'\n",
              "            + ' to learn more about interactive tables.';\n",
              "          element.innerHTML = '';\n",
              "          dataTable['output_type'] = 'display_data';\n",
              "          await google.colab.output.renderOutput(dataTable, element);\n",
              "          const docLink = document.createElement('div');\n",
              "          docLink.innerHTML = docLinkHtml;\n",
              "          element.appendChild(docLink);\n",
              "        }\n",
              "      </script>\n",
              "    </div>\n",
              "  </div>\n",
              "  "
            ]
          },
          "metadata": {},
          "execution_count": 24
        }
      ],
      "source": [
        "bm = pd.read_csv(\"/content/drive/MyDrive/Traffic Prediction/resized ottawa benchmark set/benchmark.csv\")\n",
        "bm.head()"
      ]
    },
    {
      "cell_type": "code",
      "execution_count": null,
      "metadata": {
        "id": "Sh5_hPhQ_5Bd"
      },
      "outputs": [],
      "source": [
        "test_img = bm['Unnamed: 3'][1:]\n",
        "test_img = list(test_img)"
      ]
    },
    {
      "cell_type": "code",
      "execution_count": 10,
      "metadata": {
        "id": "BgxEF_-lAFF_"
      },
      "outputs": [],
      "source": [
        "# load model\n",
        "model = load_model('/content/drive/MyDrive/Traffic Prediction/models/ep30/efficientnet_b3_ep30.h5')"
      ]
    },
    {
      "cell_type": "code",
      "execution_count": null,
      "metadata": {
        "colab": {
          "base_uri": "https://localhost:8080/"
        },
        "id": "w0VJtXV3AQWx",
        "outputId": "ec9e3732-21ca-498f-9b62-1d5e1df0c989"
      },
      "outputs": [
        {
          "output_type": "stream",
          "name": "stdout",
          "text": [
            "['2006_2022-12-22-13-07.jpg', '2006_2022-12-22-14-25.jpg', '2023_2022-12-22-18-09.jpg', '2006_2022-12-22-18-24.jpg', '2021_2022-12-22-15-19.jpg', '2006_2022-12-22-13-38.jpg', '2021_2022-12-22-12-13.jpg', '2009_2022-12-22-18-24.jpg', '2037_2022-12-22-18-14.jpg', '2021_2022-12-22-13-33.jpg', '2009_2022-12-22-17-04.jpg', '2023_2022-12-22-14-43.jpg', '2006_2022-12-22-12-32.jpg', '2006_2022-12-22-13-59.jpg', '2006_2022-12-22-15-02.jpg', '2021_2022-12-22-15-55.jpg', '2006_2022-12-22-13-15.jpg', '2006_2022-12-22-12-08.jpg', '2009_2022-12-22-18-44.jpg', '2008_2022-12-22-17-04.jpg', '2006_2022-12-22-12-57.jpg', '2007_2022-12-22-12-52.jpg', '2008_2022-12-22-18-19.jpg', '2020_2022-12-22-12-39.jpg', '2023_2022-12-22-13-59.jpg', '2007_2022-12-22-14-43.jpg', '2023_2022-12-22-15-02.jpg', '2022_2022-12-22-15-38.jpg', '2023_2022-12-22-15-19.jpg', '2009_2022-12-22-16-48.jpg', '2006_2022-12-22-12-13.jpg', '2022_2022-12-22-15-55.jpg', '2021_2022-12-22-13-38.jpg', '2021_2022-12-22-12-52.jpg', '2007_2022-12-22-15-55.jpg', '2008_2022-12-22-18-14.jpg', '2007_2022-12-22-18-29.jpg', '2021_2022-12-22-12-18.jpg', '2009_2022-12-22-17-22.jpg', '2022_2022-12-22-17-40.jpg', '2020_2022-12-22-12-44.jpg', '2007_2022-12-22-18-14.jpg', '2009_2022-12-22-20-14.jpg', '2024_2022-12-22-18-44.jpg', '2021_2022-12-22-14-25.jpg', '2007_2022-12-22-18-04.jpg', '2006_2022-12-22-15-19.jpg', '2009_2022-12-22-19-24.jpg', '2026_2022-12-22-12-32.jpg', '2021_2022-12-22-12-44.jpg', '2008_2022-12-22-18-49.jpg', '2020_2022-12-22-13-02.jpg', '2037_2022-12-22-18-24.jpg', '2007_2022-12-22-16-48.jpg', '2020_2022-12-22-12-57.jpg', '2020_2022-12-22-13-07.jpg', '2021_2022-12-22-14-43.jpg', '2026_2022-12-22-11-38.jpg', '2009_2022-12-23-00-27.jpg', '2008_2022-12-22-11-48.jpg', '2006_2022-12-22-12-44.jpg', '2028_2022-12-22-12-23.jpg', '2007_2022-12-22-13-59.jpg', '2022_2022-12-22-23-12.jpg', '2020_2022-12-22-18-04.jpg', '2029_2022-12-22-13-38.jpg', '2007_2022-12-22-12-44.jpg', '2037_2022-12-22-18-04.jpg', '2032_2022-12-23-09-35.jpg', '2019_2022-12-22-18-04.jpg', '2022_2022-12-22-11-13.jpg', '2022_2022-12-22-11-28.jpg', '2014_2022-12-22-17-04.jpg', '2023_2022-12-22-13-38.jpg', '2020_2022-12-22-18-14.jpg', '2023_2022-12-22-19-14.jpg', '2023_2022-12-22-12-44.jpg', '2009_2022-12-22-20-19.jpg', '2027_2022-12-22-10-53.jpg', '2008_2022-12-22-19-29.jpg', '2021_2022-12-22-20-04.jpg', '2006_2022-12-22-11-38.jpg', '2025_2022-12-23-09-30.jpg', '2029_2022-12-22-13-59.jpg', '2007_2022-12-22-14-25.jpg', '2022_2022-12-22-13-15.jpg', '2019_2022-12-22-18-29.jpg', '2007_2022-12-22-13-07.jpg', '2029_2022-12-22-15-02.jpg', '2020_2022-12-22-12-13.jpg', '2029_2022-12-22-15-38.jpg', '2027_2022-12-22-20-56.jpg', '2007_2022-12-22-11-28.jpg', '2011_2022-12-22-11-28.jpg', '2030_2022-12-22-11-03.jpg', '2020_2022-12-22-12-03.jpg', '2037_2022-12-22-11-53.jpg', '2019_2022-12-23-10-15.jpg', '2037_2022-12-22-19-34.jpg', '2006_2022-12-22-19-39.jpg', '2037_2022-12-22-18-49.jpg', '2024_2022-12-22-11-28.jpg', '2037_2022-12-22-15-02.jpg', '2032_2022-12-22-11-48.jpg', '2028_2022-12-22-11-28.jpg', '2037_2022-12-22-23-27.jpg', '2022_2022-12-22-10-39.jpg', '2022_2022-12-22-18-14.jpg', '2029_2022-12-22-12-03.jpg', '2006_2022-12-22-19-24.jpg', '2017_2022-12-22-15-38.jpg', '2027_2022-12-22-18-49.jpg', '2031_2022-12-22-16-48.jpg', '2037_2022-12-22-19-29.jpg', '2037_2022-12-22-13-15.jpg', '2024_2022-12-22-14-25.jpg', '2009_2022-12-22-19-09.jpg', '2009_2022-12-22-11-53.jpg', '2019_2022-12-22-11-28.jpg', '2037_2022-12-22-18-44.jpg', '2006_2022-12-22-12-39.jpg', '2027_2022-12-22-17-40.jpg', '2033_2022-12-22-11-03.jpg', '2034_2022-12-23-08-06.jpg', '2021_2022-12-22-13-07.jpg', '2019_2022-12-23-08-47.jpg', '2037_2022-12-22-20-19.jpg', '2017_2022-12-22-13-02.jpg', '2020_2022-12-22-13-15.jpg', '2020_2022-12-22-11-03.jpg', '2022_2022-12-22-18-49.jpg', '2016_2022-12-22-18-44.jpg', '2007_2022-12-23-09-50.jpg', '2027_2022-12-22-12-03.jpg', '2020_2022-12-22-11-38.jpg', '2008_2022-12-22-11-43.jpg', '2022_2022-12-22-12-13.jpg', '2017_2022-12-22-18-34.jpg', '2018_2022-12-23-00-22.jpg', '2011_2022-12-22-13-02.jpg', '2020_2022-12-23-00-07.jpg', '2020_2022-12-22-23-52.jpg', '2023_2022-12-22-22-34.jpg', '2029_2022-12-22-10-45.jpg', '2025_2022-12-22-22-12.jpg', '2027_2022-12-23-01-28.jpg', '2011_2022-12-22-18-34.jpg', '2019_2022-12-22-12-39.jpg', '2017_2022-12-22-22-05.jpg', '2014_2022-12-23-10-25.jpg', '2032_2022-12-22-11-53.jpg', '2026_2022-12-22-15-38.jpg', '2025_2022-12-22-10-39.jpg', '2034_2022-12-22-11-13.jpg', '2017_2022-12-22-19-34.jpg', '2032_2022-12-22-19-24.jpg', '2033_2022-12-23-11-20.jpg', '2024_2022-12-23-03-50.jpg', '2034_2022-12-22-22-34.jpg', '2035_2022-12-22-12-08.jpg', '2029_2022-12-22-19-29.jpg', '2022_2022-12-23-09-15.jpg', '2032_2022-12-23-01-33.jpg', '2029_2022-12-22-12-32.jpg', '2031_2022-12-22-22-22.jpg', '2014_2022-12-23-10-20.jpg', '2006_2022-12-23-08-36.jpg', '2020_2022-12-22-10-39.jpg', '2007_2022-12-23-10-20.jpg', '2031_2022-12-22-23-07.jpg', '2037_2022-12-23-02-02.jpg', '2035_2022-12-23-08-47.jpg', '2014_2022-12-23-10-55.jpg', '2030_2022-12-23-09-10.jpg', '2014_2022-12-23-06-13.jpg', '2022_2022-12-23-00-02.jpg', '2027_2022-12-23-05-47.jpg', '2017_2022-12-22-19-39.jpg', '2037_2022-12-23-11-05.jpg', '2032_2022-12-22-20-56.jpg', '2025_2022-12-22-21-26.jpg', '2033_2022-12-23-10-00.jpg', '2031_2022-12-22-18-49.jpg', '2034_2022-12-22-12-13.jpg', '2014_2022-12-23-04-00.jpg', '2024_2022-12-22-13-59.jpg', '2029_2022-12-23-04-00.jpg', '2014_2022-12-23-08-36.jpg', '2028_2022-12-23-11-30.jpg', '2025_2022-12-22-11-58.jpg', '2030_2022-12-22-18-39.jpg', '2011_2022-12-22-16-48.jpg', '2026_2022-12-22-23-22.jpg', '2030_2022-12-22-11-18.jpg', '2019_2022-12-23-00-53.jpg', '2023_2022-12-22-21-16.jpg', '2007_2022-12-23-09-25.jpg', '2033_2022-12-22-18-34.jpg', '2008_2022-12-23-03-55.jpg', '2023_2022-12-23-04-05.jpg', '2031_2022-12-22-23-32.jpg', '2021_2022-12-23-10-45.jpg', '2018_2022-12-22-13-02.jpg', '2014_2022-12-22-11-33.jpg', '2035_2022-12-23-11-30.jpg', '2032_2022-12-22-11-28.jpg', '2026_2022-12-22-18-39.jpg', '2014_2022-12-23-00-12.jpg', '2032_2022-12-23-04-54.jpg', '2007_2022-12-23-05-47.jpg', '2007_2022-12-22-19-34.jpg', '2035_2022-12-22-12-13.jpg', '2016_2022-12-23-11-10.jpg', '2033_2022-12-23-00-44.jpg', '2017_2022-12-23-00-34.jpg', '2030_2022-12-22-17-22.jpg', '2029_2022-12-23-10-00.jpg', '2035_2022-12-23-04-05.jpg', '2027_2022-12-22-23-22.jpg', '2009_2022-12-22-13-33.jpg', '2008_2022-12-23-04-00.jpg', '2024_2022-12-22-20-51.jpg', '2016_2022-12-22-23-27.jpg', '2006_2022-12-23-02-22.jpg', '2007_2022-12-23-00-53.jpg', '2007_2022-12-22-22-53.jpg', '2006_2022-12-23-00-27.jpg', '2007_2022-12-22-20-51.jpg', '2006_2022-12-23-06-08.jpg', '2011_2022-12-22-22-40.jpg', '2006_2022-12-23-02-27.jpg', '2006_2022-12-22-22-22.jpg', '2011_2022-12-22-23-02.jpg', '2007_2022-12-23-00-27.jpg', '2011_2022-12-22-20-56.jpg', '2011_2022-12-22-22-53.jpg', '2016_2022-12-23-00-12.jpg', '2007_2022-12-23-01-28.jpg', '2006_2022-12-22-21-06.jpg', '2007_2022-12-23-02-22.jpg', '2034_2022-12-23-05-12.jpg', '2011_2022-12-22-20-36.jpg', '2016_2022-12-22-23-57.jpg', '2009_2022-12-22-23-22.jpg', '2007_2022-12-23-00-07.jpg', '2011_2022-12-22-23-37.jpg', '2006_2022-12-23-03-34.jpg', '2007_2022-12-23-00-17.jpg', '2011_2022-12-22-23-27.jpg', '2011_2022-12-22-23-22.jpg', '2011_2022-12-22-21-21.jpg', '2007_2022-12-23-02-17.jpg', '2007_2022-12-23-00-39.jpg', '2011_2022-12-22-20-41.jpg', '2007_2022-12-23-02-27.jpg', '2006_2022-12-23-05-52.jpg', '2007_2022-12-23-02-12.jpg', '2011_2022-12-23-00-53.jpg', '2007_2022-12-22-23-27.jpg', '2006_2022-12-23-03-55.jpg', '2007_2022-12-22-22-12.jpg', '2006_2022-12-23-04-38.jpg', '2016_2022-12-23-00-34.jpg', '2009_2022-12-22-23-27.jpg', '2011_2022-12-22-21-26.jpg', '2007_2022-12-23-00-22.jpg', '2006_2022-12-22-23-47.jpg', '2007_2022-12-22-21-21.jpg', '2011_2022-12-23-00-39.jpg', '2011_2022-12-22-23-47.jpg', '2009_2022-12-22-21-50.jpg', '2006_2022-12-23-00-02.jpg', '2011_2022-12-23-02-12.jpg', '2011_2022-12-22-22-17.jpg', '2006_2022-12-23-05-30.jpg', '2011_2022-12-22-22-05.jpg', '2016_2022-12-22-23-17.jpg', '2006_2022-12-23-02-12.jpg', '2015_2022-12-22-17-04.jpg', '2015_2022-12-22-22-40.jpg', '2015_2022-12-22-12-08.jpg', '2015_2022-12-23-11-05.jpg', '2015_2022-12-22-19-39.jpg', '2015_2022-12-22-13-15.jpg', '2015_2022-12-22-11-48.jpg', '2015_2022-12-22-23-07.jpg', '2015_2022-12-23-08-57.jpg', '2015_2022-12-23-10-30.jpg', '2015_2022-12-22-22-22.jpg', '2015_2022-12-22-22-34.jpg', '2015_2022-12-22-13-38.jpg', '2015_2022-12-22-21-16.jpg', '2015_2022-12-22-11-03.jpg', '2015_2022-12-22-20-56.jpg', '2015_2022-12-22-23-12.jpg', '2015_2022-12-23-04-54.jpg', '2015_2022-12-22-18-44.jpg', '2015_2022-12-23-00-22.jpg', '2015_2022-12-23-11-15.jpg', '2015_2022-12-23-08-52.jpg', '2015_2022-12-23-09-10.jpg', '2015_2022-12-22-12-18.jpg', '2015_2022-12-23-08-47.jpg', '2015_2022-12-22-19-04.jpg', '2015_2022-12-23-00-34.jpg', '2015_2022-12-22-16-30.jpg', '2015_2022-12-22-19-59.jpg', '2015_2022-12-22-10-58.jpg', '2015_2022-12-22-11-53.jpg', '2015_2022-12-22-23-42.jpg', '2015_2022-12-22-18-24.jpg', '2015_2022-12-22-18-14.jpg', '2008_2022-12-23-01-33.jpg', '2015_2022-12-23-10-10.jpg', '2015_2022-12-22-11-18.jpg', '2015_2022-12-22-20-04.jpg', '2015_2022-12-22-20-09.jpg', '2015_2022-12-22-15-19.jpg', '2015_2022-12-23-07-45.jpg', '2015_2022-12-23-11-30.jpg', '2015_2022-12-22-11-43.jpg', '2015_2022-12-23-04-00.jpg', '2015_2022-12-23-08-16.jpg', '2015_2022-12-22-23-32.jpg', '2015_2022-12-23-09-40.jpg', '2015_2022-12-22-12-39.jpg', '2015_2022-12-22-16-48.jpg']\n"
          ]
        }
      ],
      "source": [
        "#read traffic.csv file\n",
        "df = pd.read_csv('/content/drive/MyDrive/Traffic Prediction/csv/benchmark_test_updated_resized_traffic.csv')\n",
        "df.head()\n",
        "train_img = list(df['id'])\n",
        "print(train_img)"
      ]
    },
    {
      "cell_type": "code",
      "execution_count": null,
      "metadata": {
        "id": "iBo4PxxhCj1z",
        "colab": {
          "base_uri": "https://localhost:8080/",
          "height": 1000
        },
        "outputId": "ae9d527f-2200-4760-f624-15642136f4e7"
      },
      "outputs": [
        {
          "output_type": "stream",
          "name": "stdout",
          "text": [
            "1/1 [==============================] - 2s 2s/step\n",
            "1/1 [==============================] - 0s 121ms/step\n",
            "1/1 [==============================] - 0s 138ms/step\n",
            "1/1 [==============================] - 0s 111ms/step\n",
            "1/1 [==============================] - 0s 127ms/step\n",
            "1/1 [==============================] - 0s 137ms/step\n",
            "1/1 [==============================] - 0s 127ms/step\n",
            "1/1 [==============================] - 0s 140ms/step\n",
            "1/1 [==============================] - 0s 130ms/step\n",
            "1/1 [==============================] - 0s 135ms/step\n",
            "1/1 [==============================] - 0s 125ms/step\n",
            "1/1 [==============================] - 0s 128ms/step\n",
            "1/1 [==============================] - 0s 135ms/step\n",
            "1/1 [==============================] - 0s 123ms/step\n",
            "1/1 [==============================] - 0s 155ms/step\n",
            "1/1 [==============================] - 0s 133ms/step\n",
            "1/1 [==============================] - 0s 125ms/step\n",
            "1/1 [==============================] - 0s 133ms/step\n",
            "1/1 [==============================] - 0s 133ms/step\n",
            "1/1 [==============================] - 0s 130ms/step\n",
            "1/1 [==============================] - 0s 135ms/step\n",
            "1/1 [==============================] - 0s 124ms/step\n",
            "1/1 [==============================] - 0s 115ms/step\n",
            "1/1 [==============================] - 0s 130ms/step\n",
            "1/1 [==============================] - 0s 123ms/step\n",
            "1/1 [==============================] - 0s 136ms/step\n",
            "1/1 [==============================] - 0s 138ms/step\n",
            "1/1 [==============================] - 0s 133ms/step\n",
            "1/1 [==============================] - 0s 130ms/step\n",
            "1/1 [==============================] - 0s 130ms/step\n",
            "1/1 [==============================] - 0s 143ms/step\n",
            "1/1 [==============================] - 0s 127ms/step\n",
            "1/1 [==============================] - 0s 125ms/step\n",
            "1/1 [==============================] - 0s 129ms/step\n",
            "1/1 [==============================] - 0s 127ms/step\n",
            "1/1 [==============================] - 0s 128ms/step\n",
            "1/1 [==============================] - 0s 121ms/step\n",
            "1/1 [==============================] - 0s 140ms/step\n",
            "1/1 [==============================] - 0s 120ms/step\n",
            "1/1 [==============================] - 0s 128ms/step\n",
            "1/1 [==============================] - 0s 123ms/step\n",
            "1/1 [==============================] - 0s 148ms/step\n",
            "1/1 [==============================] - 0s 132ms/step\n",
            "1/1 [==============================] - 0s 152ms/step\n",
            "1/1 [==============================] - 0s 120ms/step\n",
            "1/1 [==============================] - 0s 130ms/step\n",
            "1/1 [==============================] - 0s 125ms/step\n",
            "1/1 [==============================] - 0s 127ms/step\n",
            "1/1 [==============================] - 0s 125ms/step\n",
            "1/1 [==============================] - 0s 134ms/step\n",
            "1/1 [==============================] - 0s 131ms/step\n",
            "1/1 [==============================] - 0s 136ms/step\n",
            "1/1 [==============================] - 0s 123ms/step\n",
            "1/1 [==============================] - 0s 127ms/step\n",
            "1/1 [==============================] - 0s 129ms/step\n",
            "1/1 [==============================] - 0s 118ms/step\n",
            "1/1 [==============================] - 0s 124ms/step\n",
            "1/1 [==============================] - 0s 124ms/step\n",
            "1/1 [==============================] - 0s 124ms/step\n",
            "1/1 [==============================] - 0s 134ms/step\n",
            "1/1 [==============================] - 0s 139ms/step\n",
            "1/1 [==============================] - 0s 130ms/step\n",
            "1/1 [==============================] - 0s 142ms/step\n",
            "1/1 [==============================] - 0s 128ms/step\n",
            "1/1 [==============================] - 0s 121ms/step\n",
            "1/1 [==============================] - 0s 117ms/step\n",
            "1/1 [==============================] - 0s 129ms/step\n",
            "1/1 [==============================] - 0s 135ms/step\n",
            "1/1 [==============================] - 0s 122ms/step\n",
            "1/1 [==============================] - 0s 141ms/step\n",
            "1/1 [==============================] - 0s 125ms/step\n",
            "1/1 [==============================] - 0s 129ms/step\n",
            "1/1 [==============================] - 0s 127ms/step\n",
            "1/1 [==============================] - 0s 125ms/step\n",
            "1/1 [==============================] - 0s 135ms/step\n",
            "1/1 [==============================] - 0s 127ms/step\n",
            "1/1 [==============================] - 0s 123ms/step\n",
            "1/1 [==============================] - 0s 122ms/step\n",
            "1/1 [==============================] - 0s 139ms/step\n",
            "1/1 [==============================] - 0s 134ms/step\n",
            "1/1 [==============================] - 0s 134ms/step\n",
            "1/1 [==============================] - 0s 146ms/step\n",
            "1/1 [==============================] - 0s 136ms/step\n",
            "1/1 [==============================] - 0s 132ms/step\n",
            "1/1 [==============================] - 0s 135ms/step\n",
            "1/1 [==============================] - 0s 122ms/step\n",
            "1/1 [==============================] - 0s 140ms/step\n",
            "1/1 [==============================] - 0s 128ms/step\n",
            "1/1 [==============================] - 0s 123ms/step\n",
            "1/1 [==============================] - 0s 130ms/step\n",
            "1/1 [==============================] - 0s 139ms/step\n",
            "1/1 [==============================] - 0s 124ms/step\n",
            "1/1 [==============================] - 0s 137ms/step\n",
            "1/1 [==============================] - 0s 136ms/step\n",
            "1/1 [==============================] - 0s 140ms/step\n",
            "1/1 [==============================] - 0s 146ms/step\n",
            "1/1 [==============================] - 0s 143ms/step\n",
            "1/1 [==============================] - 0s 143ms/step\n",
            "1/1 [==============================] - 0s 136ms/step\n",
            "1/1 [==============================] - 0s 159ms/step\n",
            "1/1 [==============================] - 0s 136ms/step\n",
            "1/1 [==============================] - 0s 148ms/step\n",
            "1/1 [==============================] - 0s 147ms/step\n",
            "1/1 [==============================] - 0s 133ms/step\n",
            "1/1 [==============================] - 0s 135ms/step\n",
            "1/1 [==============================] - 0s 135ms/step\n",
            "1/1 [==============================] - 0s 145ms/step\n",
            "1/1 [==============================] - 0s 141ms/step\n",
            "1/1 [==============================] - 0s 157ms/step\n",
            "1/1 [==============================] - 0s 128ms/step\n",
            "1/1 [==============================] - 0s 120ms/step\n",
            "1/1 [==============================] - 0s 130ms/step\n",
            "1/1 [==============================] - 0s 137ms/step\n",
            "1/1 [==============================] - 0s 122ms/step\n",
            "1/1 [==============================] - 0s 127ms/step\n",
            "1/1 [==============================] - 0s 141ms/step\n",
            "1/1 [==============================] - 0s 139ms/step\n",
            "1/1 [==============================] - 0s 144ms/step\n",
            "1/1 [==============================] - 0s 139ms/step\n",
            "1/1 [==============================] - 0s 138ms/step\n",
            "1/1 [==============================] - 0s 129ms/step\n",
            "1/1 [==============================] - 0s 138ms/step\n",
            "1/1 [==============================] - 0s 126ms/step\n",
            "1/1 [==============================] - 0s 127ms/step\n",
            "1/1 [==============================] - 0s 131ms/step\n",
            "1/1 [==============================] - 0s 135ms/step\n",
            "1/1 [==============================] - 0s 141ms/step\n",
            "1/1 [==============================] - 0s 135ms/step\n",
            "1/1 [==============================] - 0s 141ms/step\n",
            "1/1 [==============================] - 0s 125ms/step\n",
            "1/1 [==============================] - 0s 131ms/step\n",
            "1/1 [==============================] - 0s 136ms/step\n",
            "1/1 [==============================] - 0s 133ms/step\n",
            "1/1 [==============================] - 0s 133ms/step\n",
            "1/1 [==============================] - 0s 136ms/step\n",
            "1/1 [==============================] - 0s 136ms/step\n",
            "1/1 [==============================] - 0s 156ms/step\n",
            "1/1 [==============================] - 0s 139ms/step\n",
            "1/1 [==============================] - 0s 128ms/step\n",
            "1/1 [==============================] - 0s 129ms/step\n",
            "1/1 [==============================] - 0s 130ms/step\n",
            "1/1 [==============================] - 0s 123ms/step\n",
            "1/1 [==============================] - 0s 138ms/step\n",
            "1/1 [==============================] - 0s 132ms/step\n",
            "1/1 [==============================] - 0s 132ms/step\n",
            "1/1 [==============================] - 0s 137ms/step\n",
            "1/1 [==============================] - 0s 125ms/step\n",
            "1/1 [==============================] - 0s 135ms/step\n",
            "1/1 [==============================] - 0s 124ms/step\n",
            "1/1 [==============================] - 0s 128ms/step\n",
            "1/1 [==============================] - 0s 123ms/step\n",
            "1/1 [==============================] - 0s 133ms/step\n",
            "1/1 [==============================] - 0s 132ms/step\n",
            "1/1 [==============================] - 0s 148ms/step\n",
            "1/1 [==============================] - 0s 151ms/step\n",
            "1/1 [==============================] - 0s 126ms/step\n",
            "1/1 [==============================] - 0s 127ms/step\n",
            "1/1 [==============================] - 0s 123ms/step\n",
            "1/1 [==============================] - 0s 126ms/step\n",
            "1/1 [==============================] - 0s 133ms/step\n",
            "1/1 [==============================] - 0s 123ms/step\n",
            "1/1 [==============================] - 0s 122ms/step\n",
            "1/1 [==============================] - 0s 138ms/step\n",
            "1/1 [==============================] - 0s 126ms/step\n",
            "1/1 [==============================] - 0s 128ms/step\n",
            "1/1 [==============================] - 0s 135ms/step\n",
            "1/1 [==============================] - 0s 129ms/step\n",
            "1/1 [==============================] - 0s 131ms/step\n",
            "1/1 [==============================] - 0s 137ms/step\n",
            "1/1 [==============================] - 0s 127ms/step\n",
            "1/1 [==============================] - 0s 131ms/step\n",
            "1/1 [==============================] - 0s 135ms/step\n",
            "1/1 [==============================] - 0s 141ms/step\n",
            "1/1 [==============================] - 0s 135ms/step\n",
            "1/1 [==============================] - 0s 132ms/step\n",
            "1/1 [==============================] - 0s 130ms/step\n",
            "1/1 [==============================] - 0s 122ms/step\n",
            "1/1 [==============================] - 0s 122ms/step\n",
            "1/1 [==============================] - 0s 125ms/step\n",
            "1/1 [==============================] - 0s 124ms/step\n",
            "1/1 [==============================] - 0s 133ms/step\n",
            "1/1 [==============================] - 0s 132ms/step\n",
            "1/1 [==============================] - 0s 129ms/step\n",
            "1/1 [==============================] - 0s 124ms/step\n",
            "1/1 [==============================] - 0s 138ms/step\n",
            "1/1 [==============================] - 0s 136ms/step\n",
            "1/1 [==============================] - 0s 117ms/step\n",
            "1/1 [==============================] - 0s 142ms/step\n",
            "1/1 [==============================] - 0s 134ms/step\n",
            "1/1 [==============================] - 0s 153ms/step\n",
            "1/1 [==============================] - 0s 126ms/step\n",
            "1/1 [==============================] - 0s 121ms/step\n",
            "1/1 [==============================] - 0s 131ms/step\n",
            "1/1 [==============================] - 0s 127ms/step\n",
            "1/1 [==============================] - 0s 127ms/step\n",
            "1/1 [==============================] - 0s 126ms/step\n",
            "1/1 [==============================] - 0s 137ms/step\n",
            "1/1 [==============================] - 0s 130ms/step\n",
            "1/1 [==============================] - 0s 131ms/step\n",
            "1/1 [==============================] - 0s 125ms/step\n",
            "1/1 [==============================] - 0s 115ms/step\n",
            "1/1 [==============================] - 0s 119ms/step\n",
            "1/1 [==============================] - 0s 125ms/step\n",
            "1/1 [==============================] - 0s 127ms/step\n",
            "1/1 [==============================] - 0s 130ms/step\n",
            "1/1 [==============================] - 0s 133ms/step\n",
            "1/1 [==============================] - 0s 143ms/step\n",
            "1/1 [==============================] - 0s 127ms/step\n",
            "1/1 [==============================] - 0s 124ms/step\n",
            "1/1 [==============================] - 0s 135ms/step\n",
            "1/1 [==============================] - 0s 134ms/step\n",
            "1/1 [==============================] - 0s 134ms/step\n",
            "1/1 [==============================] - 0s 135ms/step\n",
            "1/1 [==============================] - 0s 123ms/step\n",
            "1/1 [==============================] - 0s 141ms/step\n",
            "1/1 [==============================] - 0s 132ms/step\n",
            "1/1 [==============================] - 0s 137ms/step\n",
            "1/1 [==============================] - 0s 118ms/step\n",
            "1/1 [==============================] - 0s 128ms/step\n",
            "1/1 [==============================] - 0s 126ms/step\n",
            "1/1 [==============================] - 0s 134ms/step\n",
            "1/1 [==============================] - 0s 133ms/step\n",
            "1/1 [==============================] - 0s 130ms/step\n",
            "1/1 [==============================] - 0s 113ms/step\n",
            "1/1 [==============================] - 0s 124ms/step\n",
            "1/1 [==============================] - 0s 145ms/step\n",
            "1/1 [==============================] - 0s 146ms/step\n",
            "1/1 [==============================] - 0s 117ms/step\n",
            "1/1 [==============================] - 0s 123ms/step\n",
            "1/1 [==============================] - 0s 127ms/step\n",
            "1/1 [==============================] - 0s 127ms/step\n",
            "1/1 [==============================] - 0s 120ms/step\n",
            "1/1 [==============================] - 0s 127ms/step\n",
            "1/1 [==============================] - 0s 121ms/step\n",
            "1/1 [==============================] - 0s 124ms/step\n",
            "1/1 [==============================] - 0s 126ms/step\n",
            "1/1 [==============================] - 0s 131ms/step\n",
            "1/1 [==============================] - 0s 127ms/step\n",
            "1/1 [==============================] - 0s 134ms/step\n",
            "1/1 [==============================] - 0s 120ms/step\n",
            "1/1 [==============================] - 0s 125ms/step\n",
            "1/1 [==============================] - 0s 137ms/step\n",
            "1/1 [==============================] - 0s 135ms/step\n",
            "1/1 [==============================] - 0s 147ms/step\n",
            "1/1 [==============================] - 0s 127ms/step\n",
            "1/1 [==============================] - 0s 121ms/step\n",
            "1/1 [==============================] - 0s 120ms/step\n",
            "1/1 [==============================] - 0s 116ms/step\n",
            "1/1 [==============================] - 0s 123ms/step\n",
            "1/1 [==============================] - 0s 121ms/step\n",
            "1/1 [==============================] - 0s 121ms/step\n",
            "1/1 [==============================] - 0s 134ms/step\n",
            "1/1 [==============================] - 0s 118ms/step\n",
            "1/1 [==============================] - 0s 116ms/step\n",
            "1/1 [==============================] - 0s 125ms/step\n",
            "1/1 [==============================] - 0s 117ms/step\n",
            "1/1 [==============================] - 0s 101ms/step\n",
            "1/1 [==============================] - 0s 134ms/step\n",
            "1/1 [==============================] - 0s 125ms/step\n",
            "1/1 [==============================] - 0s 130ms/step\n",
            "1/1 [==============================] - 0s 130ms/step\n",
            "1/1 [==============================] - 0s 119ms/step\n",
            "1/1 [==============================] - 0s 138ms/step\n",
            "1/1 [==============================] - 0s 120ms/step\n",
            "1/1 [==============================] - 0s 123ms/step\n",
            "1/1 [==============================] - 0s 126ms/step\n",
            "1/1 [==============================] - 0s 125ms/step\n",
            "1/1 [==============================] - 0s 115ms/step\n",
            "1/1 [==============================] - 0s 130ms/step\n",
            "1/1 [==============================] - 0s 124ms/step\n",
            "1/1 [==============================] - 0s 133ms/step\n",
            "1/1 [==============================] - 0s 112ms/step\n",
            "1/1 [==============================] - 0s 120ms/step\n",
            "1/1 [==============================] - 0s 124ms/step\n",
            "1/1 [==============================] - 0s 128ms/step\n",
            "1/1 [==============================] - 0s 129ms/step\n",
            "1/1 [==============================] - 0s 128ms/step\n",
            "1/1 [==============================] - 0s 133ms/step\n",
            "1/1 [==============================] - 0s 136ms/step\n",
            "1/1 [==============================] - 0s 140ms/step\n",
            "1/1 [==============================] - 0s 134ms/step\n",
            "1/1 [==============================] - 0s 155ms/step\n",
            "1/1 [==============================] - 0s 133ms/step\n",
            "1/1 [==============================] - 0s 127ms/step\n",
            "1/1 [==============================] - 0s 124ms/step\n",
            "1/1 [==============================] - 0s 116ms/step\n",
            "1/1 [==============================] - 0s 124ms/step\n",
            "1/1 [==============================] - 0s 132ms/step\n",
            "1/1 [==============================] - 0s 125ms/step\n",
            "1/1 [==============================] - 0s 128ms/step\n",
            "1/1 [==============================] - 0s 137ms/step\n",
            "1/1 [==============================] - 0s 104ms/step\n",
            "1/1 [==============================] - 0s 141ms/step\n",
            "1/1 [==============================] - 0s 138ms/step\n",
            "1/1 [==============================] - 0s 120ms/step\n",
            "1/1 [==============================] - 0s 127ms/step\n",
            "1/1 [==============================] - 0s 128ms/step\n",
            "1/1 [==============================] - 0s 145ms/step\n",
            "1/1 [==============================] - 0s 140ms/step\n",
            "1/1 [==============================] - 0s 143ms/step\n",
            "1/1 [==============================] - 0s 138ms/step\n",
            "1/1 [==============================] - 0s 124ms/step\n",
            "1/1 [==============================] - 0s 126ms/step\n",
            "1/1 [==============================] - 0s 120ms/step\n",
            "1/1 [==============================] - 0s 134ms/step\n",
            "1/1 [==============================] - 0s 111ms/step\n",
            "1/1 [==============================] - 0s 125ms/step\n",
            "1/1 [==============================] - 0s 121ms/step\n",
            "1/1 [==============================] - 0s 131ms/step\n",
            "1/1 [==============================] - 0s 115ms/step\n",
            "1/1 [==============================] - 0s 125ms/step\n",
            "1/1 [==============================] - 0s 125ms/step\n",
            "1/1 [==============================] - 0s 129ms/step\n",
            "1/1 [==============================] - 0s 123ms/step\n",
            "1/1 [==============================] - 0s 121ms/step\n",
            "1/1 [==============================] - 0s 119ms/step\n",
            "1/1 [==============================] - 0s 144ms/step\n",
            "1/1 [==============================] - 0s 128ms/step\n",
            "1/1 [==============================] - 0s 132ms/step\n",
            "1/1 [==============================] - 0s 123ms/step\n",
            "1/1 [==============================] - 0s 123ms/step\n",
            "1/1 [==============================] - 0s 123ms/step\n",
            "1/1 [==============================] - 0s 129ms/step\n",
            "1/1 [==============================] - 0s 118ms/step\n",
            "1/1 [==============================] - 0s 121ms/step\n",
            "1/1 [==============================] - 0s 119ms/step\n",
            "1/1 [==============================] - 0s 133ms/step\n",
            "1/1 [==============================] - 0s 128ms/step\n",
            "1/1 [==============================] - 0s 120ms/step\n",
            "1/1 [==============================] - 0s 136ms/step\n",
            "1/1 [==============================] - 0s 126ms/step\n",
            "1/1 [==============================] - 0s 123ms/step\n",
            "1/1 [==============================] - 0s 120ms/step\n",
            "1/1 [==============================] - 0s 121ms/step\n",
            "1/1 [==============================] - 0s 124ms/step\n",
            "1/1 [==============================] - 0s 109ms/step\n",
            "1/1 [==============================] - 0s 133ms/step\n",
            "1/1 [==============================] - 0s 125ms/step\n",
            "1/1 [==============================] - 0s 133ms/step\n",
            "1/1 [==============================] - 0s 126ms/step\n",
            "1/1 [==============================] - 0s 129ms/step\n",
            "1/1 [==============================] - 0s 117ms/step\n",
            "1/1 [==============================] - 0s 130ms/step\n",
            "1/1 [==============================] - 0s 134ms/step\n",
            "1/1 [==============================] - 0s 127ms/step\n",
            "1/1 [==============================] - 0s 125ms/step\n",
            "1/1 [==============================] - 0s 119ms/step\n",
            "1/1 [==============================] - 0s 126ms/step\n",
            "1/1 [==============================] - 0s 119ms/step\n",
            "1/1 [==============================] - 0s 126ms/step\n",
            "1/1 [==============================] - 0s 131ms/step\n",
            "1/1 [==============================] - 0s 126ms/step\n",
            "1/1 [==============================] - 0s 128ms/step\n",
            "1/1 [==============================] - 0s 128ms/step\n",
            "1/1 [==============================] - 0s 139ms/step\n",
            "1/1 [==============================] - 0s 141ms/step\n",
            "1/1 [==============================] - 0s 138ms/step\n",
            "1/1 [==============================] - 0s 117ms/step\n",
            "1/1 [==============================] - 0s 130ms/step\n",
            "1/1 [==============================] - 0s 122ms/step\n",
            "1/1 [==============================] - 0s 124ms/step\n",
            "1/1 [==============================] - 0s 132ms/step\n",
            "1/1 [==============================] - 0s 130ms/step\n",
            "1/1 [==============================] - 0s 132ms/step\n",
            "1/1 [==============================] - 0s 126ms/step\n",
            "1/1 [==============================] - 0s 124ms/step\n",
            "1/1 [==============================] - 0s 120ms/step\n",
            "1/1 [==============================] - 0s 126ms/step\n",
            "1/1 [==============================] - 0s 122ms/step\n",
            "1/1 [==============================] - 0s 114ms/step\n",
            "1/1 [==============================] - 0s 127ms/step\n",
            "1/1 [==============================] - 0s 120ms/step\n",
            "1/1 [==============================] - 0s 150ms/step\n",
            "1/1 [==============================] - 0s 131ms/step\n",
            "1/1 [==============================] - 0s 153ms/step\n",
            "1/1 [==============================] - 0s 127ms/step\n",
            "1/1 [==============================] - 0s 129ms/step\n",
            "1/1 [==============================] - 0s 128ms/step\n",
            "1/1 [==============================] - 0s 133ms/step\n",
            "1/1 [==============================] - 0s 123ms/step\n",
            "1/1 [==============================] - 0s 135ms/step\n",
            "1/1 [==============================] - 0s 134ms/step\n",
            "1/1 [==============================] - 0s 127ms/step\n",
            "1/1 [==============================] - 0s 126ms/step\n",
            "1/1 [==============================] - 0s 134ms/step\n",
            "1/1 [==============================] - 0s 139ms/step\n",
            "1/1 [==============================] - 0s 133ms/step\n",
            "1/1 [==============================] - 0s 131ms/step\n",
            "1/1 [==============================] - 0s 119ms/step\n",
            "1/1 [==============================] - 0s 130ms/step\n",
            "1/1 [==============================] - 0s 129ms/step\n",
            "1/1 [==============================] - 0s 128ms/step\n",
            "1/1 [==============================] - 0s 138ms/step\n",
            "1/1 [==============================] - 0s 135ms/step\n",
            "1/1 [==============================] - 0s 132ms/step\n",
            "1/1 [==============================] - 0s 132ms/step\n",
            "1/1 [==============================] - 0s 123ms/step\n",
            "1/1 [==============================] - 0s 127ms/step\n",
            "1/1 [==============================] - 0s 121ms/step\n",
            "1/1 [==============================] - 0s 110ms/step\n",
            "1/1 [==============================] - 0s 124ms/step\n",
            "1/1 [==============================] - 0s 120ms/step\n",
            "1/1 [==============================] - 0s 135ms/step\n",
            "1/1 [==============================] - 0s 122ms/step\n",
            "1/1 [==============================] - 0s 138ms/step\n",
            "1/1 [==============================] - 0s 129ms/step\n",
            "1/1 [==============================] - 0s 132ms/step\n",
            "1/1 [==============================] - 0s 127ms/step\n",
            "1/1 [==============================] - 0s 123ms/step\n",
            "1/1 [==============================] - 0s 129ms/step\n",
            "1/1 [==============================] - 0s 144ms/step\n",
            "1/1 [==============================] - 0s 145ms/step\n",
            "1/1 [==============================] - 0s 138ms/step\n",
            "1/1 [==============================] - 0s 124ms/step\n",
            "1/1 [==============================] - 0s 121ms/step\n",
            "1/1 [==============================] - 0s 134ms/step\n",
            "1/1 [==============================] - 0s 131ms/step\n",
            "1/1 [==============================] - 0s 131ms/step\n",
            "1/1 [==============================] - 0s 125ms/step\n",
            "1/1 [==============================] - 0s 124ms/step\n",
            "1/1 [==============================] - 0s 124ms/step\n",
            "1/1 [==============================] - 0s 118ms/step\n",
            "1/1 [==============================] - 0s 108ms/step\n",
            "1/1 [==============================] - 0s 119ms/step\n",
            "1/1 [==============================] - 0s 126ms/step\n",
            "1/1 [==============================] - 0s 123ms/step\n",
            "1/1 [==============================] - 0s 120ms/step\n",
            "1/1 [==============================] - 0s 124ms/step\n",
            "1/1 [==============================] - 0s 133ms/step\n",
            "1/1 [==============================] - 0s 143ms/step\n",
            "1/1 [==============================] - 0s 134ms/step\n",
            "1/1 [==============================] - 0s 105ms/step\n",
            "1/1 [==============================] - 0s 125ms/step\n",
            "1/1 [==============================] - 0s 107ms/step\n",
            "1/1 [==============================] - 0s 109ms/step\n",
            "1/1 [==============================] - 0s 120ms/step\n",
            "1/1 [==============================] - 0s 128ms/step\n",
            "1/1 [==============================] - 0s 120ms/step\n",
            "1/1 [==============================] - 0s 122ms/step\n",
            "1/1 [==============================] - 0s 115ms/step\n",
            "1/1 [==============================] - 0s 127ms/step\n",
            "1/1 [==============================] - 0s 126ms/step\n",
            "1/1 [==============================] - 0s 128ms/step\n",
            "1/1 [==============================] - 0s 139ms/step\n",
            "1/1 [==============================] - 0s 114ms/step\n",
            "1/1 [==============================] - 0s 131ms/step\n",
            "1/1 [==============================] - 0s 130ms/step\n",
            "1/1 [==============================] - 0s 139ms/step\n",
            "1/1 [==============================] - 0s 141ms/step\n",
            "1/1 [==============================] - 0s 143ms/step\n",
            "1/1 [==============================] - 0s 126ms/step\n",
            "1/1 [==============================] - 0s 119ms/step\n",
            "1/1 [==============================] - 0s 117ms/step\n",
            "1/1 [==============================] - 0s 118ms/step\n",
            "1/1 [==============================] - 0s 124ms/step\n",
            "1/1 [==============================] - 0s 127ms/step\n",
            "1/1 [==============================] - 0s 128ms/step\n",
            "1/1 [==============================] - 0s 123ms/step\n",
            "1/1 [==============================] - 0s 123ms/step\n",
            "1/1 [==============================] - 0s 136ms/step\n",
            "1/1 [==============================] - 0s 133ms/step\n",
            "1/1 [==============================] - 0s 129ms/step\n",
            "1/1 [==============================] - 0s 132ms/step\n",
            "1/1 [==============================] - 0s 128ms/step\n",
            "1/1 [==============================] - 0s 143ms/step\n",
            "1/1 [==============================] - 0s 115ms/step\n",
            "1/1 [==============================] - 0s 132ms/step\n",
            "1/1 [==============================] - 0s 132ms/step\n",
            "1/1 [==============================] - 0s 141ms/step\n",
            "1/1 [==============================] - 0s 131ms/step\n",
            "1/1 [==============================] - 0s 127ms/step\n",
            "1/1 [==============================] - 0s 123ms/step\n",
            "1/1 [==============================] - 0s 128ms/step\n",
            "1/1 [==============================] - 0s 134ms/step\n",
            "1/1 [==============================] - 0s 124ms/step\n",
            "1/1 [==============================] - 0s 103ms/step\n",
            "1/1 [==============================] - 0s 121ms/step\n",
            "1/1 [==============================] - 0s 116ms/step\n",
            "1/1 [==============================] - 0s 115ms/step\n",
            "1/1 [==============================] - 0s 131ms/step\n",
            "1/1 [==============================] - 0s 122ms/step\n",
            "1/1 [==============================] - 0s 135ms/step\n",
            "1/1 [==============================] - 0s 132ms/step\n",
            "1/1 [==============================] - 0s 138ms/step\n",
            "1/1 [==============================] - 0s 127ms/step\n",
            "1/1 [==============================] - 0s 109ms/step\n",
            "1/1 [==============================] - 0s 117ms/step\n",
            "1/1 [==============================] - 0s 115ms/step\n",
            "1/1 [==============================] - 0s 126ms/step\n",
            "1/1 [==============================] - 0s 135ms/step\n",
            "1/1 [==============================] - 0s 126ms/step\n",
            "1/1 [==============================] - 0s 113ms/step\n",
            "1/1 [==============================] - 0s 120ms/step\n",
            "1/1 [==============================] - 0s 112ms/step\n",
            "1/1 [==============================] - 0s 108ms/step\n",
            "1/1 [==============================] - 0s 112ms/step\n",
            "1/1 [==============================] - 0s 115ms/step\n",
            "1/1 [==============================] - 0s 108ms/step\n",
            "1/1 [==============================] - 0s 101ms/step\n",
            "1/1 [==============================] - 0s 105ms/step\n",
            "1/1 [==============================] - 0s 119ms/step\n",
            "1/1 [==============================] - 0s 129ms/step\n",
            "1/1 [==============================] - 0s 130ms/step\n",
            "1/1 [==============================] - 0s 147ms/step\n",
            "1/1 [==============================] - 0s 120ms/step\n",
            "1/1 [==============================] - 0s 112ms/step\n",
            "1/1 [==============================] - 0s 138ms/step\n",
            "1/1 [==============================] - 0s 124ms/step\n",
            "1/1 [==============================] - 0s 132ms/step\n",
            "1/1 [==============================] - 0s 121ms/step\n",
            "1/1 [==============================] - 0s 124ms/step\n",
            "1/1 [==============================] - 0s 120ms/step\n",
            "1/1 [==============================] - 0s 120ms/step\n",
            "1/1 [==============================] - 0s 129ms/step\n",
            "1/1 [==============================] - 0s 127ms/step\n",
            "1/1 [==============================] - 0s 120ms/step\n",
            "1/1 [==============================] - 0s 133ms/step\n",
            "1/1 [==============================] - 0s 126ms/step\n",
            "1/1 [==============================] - 0s 126ms/step\n",
            "1/1 [==============================] - 0s 146ms/step\n",
            "1/1 [==============================] - 0s 140ms/step\n",
            "1/1 [==============================] - 0s 139ms/step\n",
            "1/1 [==============================] - 0s 138ms/step\n",
            "1/1 [==============================] - 0s 128ms/step\n",
            "1/1 [==============================] - 0s 127ms/step\n",
            "1/1 [==============================] - 0s 111ms/step\n",
            "1/1 [==============================] - 0s 119ms/step\n",
            "1/1 [==============================] - 0s 126ms/step\n",
            "1/1 [==============================] - 0s 128ms/step\n",
            "1/1 [==============================] - 0s 129ms/step\n",
            "1/1 [==============================] - 0s 118ms/step\n",
            "1/1 [==============================] - 0s 137ms/step\n",
            "1/1 [==============================] - 0s 125ms/step\n",
            "1/1 [==============================] - 0s 119ms/step\n",
            "1/1 [==============================] - 0s 126ms/step\n",
            "1/1 [==============================] - 0s 117ms/step\n",
            "1/1 [==============================] - 0s 128ms/step\n",
            "1/1 [==============================] - 0s 126ms/step\n",
            "1/1 [==============================] - 0s 142ms/step\n",
            "1/1 [==============================] - 0s 124ms/step\n",
            "1/1 [==============================] - 0s 129ms/step\n",
            "1/1 [==============================] - 0s 128ms/step\n",
            "1/1 [==============================] - 0s 120ms/step\n",
            "1/1 [==============================] - 0s 125ms/step\n",
            "1/1 [==============================] - 0s 118ms/step\n",
            "1/1 [==============================] - 0s 125ms/step\n",
            "1/1 [==============================] - 0s 137ms/step\n",
            "1/1 [==============================] - 0s 133ms/step\n",
            "1/1 [==============================] - 0s 125ms/step\n",
            "1/1 [==============================] - 0s 122ms/step\n",
            "1/1 [==============================] - 0s 125ms/step\n",
            "1/1 [==============================] - 0s 132ms/step\n",
            "1/1 [==============================] - 0s 123ms/step\n",
            "1/1 [==============================] - 0s 140ms/step\n",
            "1/1 [==============================] - 0s 139ms/step\n",
            "1/1 [==============================] - 0s 129ms/step\n",
            "1/1 [==============================] - 0s 141ms/step\n",
            "1/1 [==============================] - 0s 141ms/step\n",
            "1/1 [==============================] - 0s 146ms/step\n",
            "1/1 [==============================] - 0s 139ms/step\n",
            "1/1 [==============================] - 0s 136ms/step\n",
            "1/1 [==============================] - 0s 117ms/step\n",
            "1/1 [==============================] - 0s 125ms/step\n",
            "1/1 [==============================] - 0s 134ms/step\n",
            "1/1 [==============================] - 0s 111ms/step\n",
            "1/1 [==============================] - 0s 127ms/step\n",
            "1/1 [==============================] - 0s 124ms/step\n",
            "1/1 [==============================] - 0s 128ms/step\n",
            "1/1 [==============================] - 0s 122ms/step\n",
            "1/1 [==============================] - 0s 124ms/step\n",
            "1/1 [==============================] - 0s 128ms/step\n",
            "1/1 [==============================] - 0s 135ms/step\n",
            "1/1 [==============================] - 0s 121ms/step\n",
            "1/1 [==============================] - 0s 123ms/step\n",
            "1/1 [==============================] - 0s 127ms/step\n",
            "1/1 [==============================] - 0s 132ms/step\n",
            "1/1 [==============================] - 0s 129ms/step\n",
            "1/1 [==============================] - 0s 150ms/step\n",
            "1/1 [==============================] - 0s 127ms/step\n",
            "1/1 [==============================] - 0s 117ms/step\n",
            "1/1 [==============================] - 0s 119ms/step\n",
            "1/1 [==============================] - 0s 126ms/step\n",
            "1/1 [==============================] - 0s 126ms/step\n",
            "1/1 [==============================] - 0s 119ms/step\n",
            "1/1 [==============================] - 0s 130ms/step\n",
            "1/1 [==============================] - 0s 135ms/step\n",
            "1/1 [==============================] - 0s 113ms/step\n",
            "1/1 [==============================] - 0s 113ms/step\n",
            "1/1 [==============================] - 0s 118ms/step\n",
            "1/1 [==============================] - 0s 129ms/step\n",
            "1/1 [==============================] - 0s 128ms/step\n",
            "1/1 [==============================] - 0s 132ms/step\n",
            "1/1 [==============================] - 0s 131ms/step\n",
            "1/1 [==============================] - 0s 126ms/step\n",
            "1/1 [==============================] - 0s 128ms/step\n",
            "1/1 [==============================] - 0s 131ms/step\n",
            "1/1 [==============================] - 0s 145ms/step\n",
            "1/1 [==============================] - 0s 125ms/step\n",
            "1/1 [==============================] - 0s 130ms/step\n",
            "1/1 [==============================] - 0s 122ms/step\n",
            "1/1 [==============================] - 0s 133ms/step\n",
            "1/1 [==============================] - 0s 121ms/step\n",
            "1/1 [==============================] - 0s 138ms/step\n",
            "1/1 [==============================] - 0s 135ms/step\n",
            "1/1 [==============================] - 0s 134ms/step\n",
            "1/1 [==============================] - 0s 122ms/step\n",
            "1/1 [==============================] - 0s 127ms/step\n",
            "1/1 [==============================] - 0s 122ms/step\n",
            "1/1 [==============================] - 0s 137ms/step\n",
            "1/1 [==============================] - 0s 135ms/step\n",
            "1/1 [==============================] - 0s 136ms/step\n",
            "1/1 [==============================] - 0s 125ms/step\n",
            "1/1 [==============================] - 0s 137ms/step\n",
            "1/1 [==============================] - 0s 139ms/step\n",
            "1/1 [==============================] - 0s 133ms/step\n",
            "1/1 [==============================] - 0s 143ms/step\n",
            "1/1 [==============================] - 0s 124ms/step\n",
            "1/1 [==============================] - 0s 124ms/step\n",
            "1/1 [==============================] - 0s 128ms/step\n",
            "1/1 [==============================] - 0s 123ms/step\n",
            "1/1 [==============================] - 0s 129ms/step\n",
            "1/1 [==============================] - 0s 144ms/step\n",
            "1/1 [==============================] - 0s 128ms/step\n",
            "1/1 [==============================] - 0s 128ms/step\n",
            "1/1 [==============================] - 0s 123ms/step\n",
            "1/1 [==============================] - 0s 125ms/step\n",
            "1/1 [==============================] - 0s 126ms/step\n",
            "1/1 [==============================] - 0s 125ms/step\n",
            "1/1 [==============================] - 0s 139ms/step\n",
            "1/1 [==============================] - 0s 127ms/step\n",
            "1/1 [==============================] - 0s 126ms/step\n",
            "1/1 [==============================] - 0s 142ms/step\n",
            "1/1 [==============================] - 0s 158ms/step\n",
            "1/1 [==============================] - 0s 137ms/step\n",
            "1/1 [==============================] - 0s 146ms/step\n",
            "1/1 [==============================] - 0s 129ms/step\n",
            "1/1 [==============================] - 0s 137ms/step\n",
            "1/1 [==============================] - 0s 118ms/step\n",
            "1/1 [==============================] - 0s 128ms/step\n",
            "1/1 [==============================] - 0s 121ms/step\n",
            "1/1 [==============================] - 0s 124ms/step\n",
            "1/1 [==============================] - 0s 135ms/step\n",
            "1/1 [==============================] - 0s 131ms/step\n",
            "1/1 [==============================] - 0s 120ms/step\n",
            "1/1 [==============================] - 0s 135ms/step\n",
            "1/1 [==============================] - 0s 130ms/step\n",
            "1/1 [==============================] - 0s 124ms/step\n",
            "1/1 [==============================] - 0s 131ms/step\n",
            "1/1 [==============================] - 0s 131ms/step\n",
            "1/1 [==============================] - 0s 127ms/step\n",
            "1/1 [==============================] - 0s 135ms/step\n",
            "1/1 [==============================] - 0s 138ms/step\n",
            "1/1 [==============================] - 0s 143ms/step\n",
            "1/1 [==============================] - 0s 129ms/step\n",
            "1/1 [==============================] - 0s 143ms/step\n",
            "1/1 [==============================] - 0s 131ms/step\n",
            "1/1 [==============================] - 0s 132ms/step\n",
            "1/1 [==============================] - 0s 132ms/step\n",
            "1/1 [==============================] - 0s 130ms/step\n",
            "1/1 [==============================] - 0s 132ms/step\n",
            "1/1 [==============================] - 0s 125ms/step\n",
            "1/1 [==============================] - 0s 125ms/step\n",
            "1/1 [==============================] - 0s 127ms/step\n",
            "1/1 [==============================] - 0s 134ms/step\n",
            "1/1 [==============================] - 0s 126ms/step\n",
            "1/1 [==============================] - 0s 127ms/step\n",
            "1/1 [==============================] - 0s 126ms/step\n",
            "1/1 [==============================] - 0s 120ms/step\n",
            "1/1 [==============================] - 0s 121ms/step\n",
            "1/1 [==============================] - 0s 142ms/step\n",
            "1/1 [==============================] - 0s 142ms/step\n",
            "1/1 [==============================] - 0s 134ms/step\n",
            "1/1 [==============================] - 0s 138ms/step\n",
            "1/1 [==============================] - 0s 123ms/step\n",
            "1/1 [==============================] - 0s 126ms/step\n",
            "1/1 [==============================] - 0s 125ms/step\n",
            "1/1 [==============================] - 0s 127ms/step\n",
            "1/1 [==============================] - 0s 126ms/step\n",
            "1/1 [==============================] - 0s 127ms/step\n",
            "1/1 [==============================] - 0s 131ms/step\n",
            "1/1 [==============================] - 0s 127ms/step\n",
            "1/1 [==============================] - 0s 131ms/step\n",
            "1/1 [==============================] - 0s 123ms/step\n",
            "1/1 [==============================] - 0s 127ms/step\n",
            "1/1 [==============================] - 0s 133ms/step\n",
            "1/1 [==============================] - 0s 124ms/step\n",
            "1/1 [==============================] - 0s 133ms/step\n",
            "1/1 [==============================] - 0s 122ms/step\n",
            "1/1 [==============================] - 0s 124ms/step\n",
            "1/1 [==============================] - 0s 130ms/step\n",
            "1/1 [==============================] - 0s 136ms/step\n",
            "1/1 [==============================] - 0s 123ms/step\n",
            "1/1 [==============================] - 0s 123ms/step\n",
            "1/1 [==============================] - 0s 118ms/step\n",
            "1/1 [==============================] - 0s 114ms/step\n",
            "1/1 [==============================] - 0s 128ms/step\n",
            "1/1 [==============================] - 0s 137ms/step\n",
            "1/1 [==============================] - 0s 114ms/step\n",
            "1/1 [==============================] - 0s 120ms/step\n",
            "1/1 [==============================] - 0s 103ms/step\n",
            "1/1 [==============================] - 0s 132ms/step\n",
            "1/1 [==============================] - 0s 125ms/step\n",
            "1/1 [==============================] - 0s 123ms/step\n",
            "1/1 [==============================] - 0s 110ms/step\n",
            "1/1 [==============================] - 0s 125ms/step\n",
            "1/1 [==============================] - 0s 113ms/step\n",
            "1/1 [==============================] - 0s 129ms/step\n",
            "1/1 [==============================] - 0s 120ms/step\n",
            "1/1 [==============================] - 0s 145ms/step\n",
            "1/1 [==============================] - 0s 132ms/step\n",
            "1/1 [==============================] - 0s 132ms/step\n",
            "1/1 [==============================] - 0s 130ms/step\n",
            "1/1 [==============================] - 0s 126ms/step\n",
            "1/1 [==============================] - 0s 133ms/step\n",
            "1/1 [==============================] - 0s 126ms/step\n",
            "1/1 [==============================] - 0s 103ms/step\n",
            "1/1 [==============================] - 0s 121ms/step\n",
            "1/1 [==============================] - 0s 128ms/step\n",
            "1/1 [==============================] - 0s 117ms/step\n",
            "1/1 [==============================] - 0s 119ms/step\n",
            "1/1 [==============================] - 0s 123ms/step\n",
            "1/1 [==============================] - 0s 124ms/step\n",
            "1/1 [==============================] - 0s 102ms/step\n",
            "1/1 [==============================] - 0s 111ms/step\n",
            "1/1 [==============================] - 0s 124ms/step\n",
            "1/1 [==============================] - 0s 139ms/step\n",
            "1/1 [==============================] - 0s 141ms/step\n",
            "1/1 [==============================] - 0s 139ms/step\n",
            "1/1 [==============================] - 0s 134ms/step\n",
            "1/1 [==============================] - 0s 124ms/step\n",
            "1/1 [==============================] - 0s 115ms/step\n",
            "1/1 [==============================] - 0s 129ms/step\n",
            "1/1 [==============================] - 0s 125ms/step\n",
            "1/1 [==============================] - 0s 130ms/step\n",
            "1/1 [==============================] - 0s 143ms/step\n",
            "1/1 [==============================] - 0s 125ms/step\n",
            "1/1 [==============================] - 0s 126ms/step\n",
            "1/1 [==============================] - 0s 125ms/step\n",
            "1/1 [==============================] - 0s 131ms/step\n",
            "1/1 [==============================] - 0s 124ms/step\n",
            "1/1 [==============================] - 0s 126ms/step\n"
          ]
        },
        {
          "output_type": "error",
          "ename": "KeyboardInterrupt",
          "evalue": "ignored",
          "traceback": [
            "\u001b[0;31m---------------------------------------------------------------------------\u001b[0m",
            "\u001b[0;31mKeyboardInterrupt\u001b[0m                         Traceback (most recent call last)",
            "\u001b[0;32m<ipython-input-33-101708b54e42>\u001b[0m in \u001b[0;36m<module>\u001b[0;34m\u001b[0m\n\u001b[1;32m     24\u001b[0m     \u001b[0;31m# image = cv2.resize(img, (im_size, im_size))\u001b[0m\u001b[0;34m\u001b[0m\u001b[0;34m\u001b[0m\u001b[0;34m\u001b[0m\u001b[0m\n\u001b[1;32m     25\u001b[0m     \u001b[0;32mif\u001b[0m \u001b[0mbm\u001b[0m\u001b[0;34m[\u001b[0m\u001b[0;34m'Unnamed: 20'\u001b[0m\u001b[0;34m]\u001b[0m\u001b[0;34m[\u001b[0m\u001b[0mi\u001b[0m\u001b[0;34m+\u001b[0m\u001b[0;36m1\u001b[0m\u001b[0;34m]\u001b[0m \u001b[0;34m!=\u001b[0m \u001b[0;34m'Blurry'\u001b[0m \u001b[0;32mand\u001b[0m \u001b[0mbm\u001b[0m\u001b[0;34m[\u001b[0m\u001b[0;34m'Unnamed: 20'\u001b[0m\u001b[0;34m]\u001b[0m\u001b[0;34m[\u001b[0m\u001b[0mi\u001b[0m\u001b[0;34m+\u001b[0m\u001b[0;36m1\u001b[0m\u001b[0;34m]\u001b[0m \u001b[0;34m!=\u001b[0m \u001b[0;34m'Camera_off'\u001b[0m\u001b[0;34m:\u001b[0m\u001b[0;34m\u001b[0m\u001b[0;34m\u001b[0m\u001b[0m\n\u001b[0;32m---> 26\u001b[0;31m       \u001b[0moutput\u001b[0m \u001b[0;34m=\u001b[0m \u001b[0mmodel\u001b[0m\u001b[0;34m.\u001b[0m\u001b[0mpredict\u001b[0m\u001b[0;34m(\u001b[0m\u001b[0mimage\u001b[0m\u001b[0;34m)\u001b[0m\u001b[0;34m\u001b[0m\u001b[0;34m\u001b[0m\u001b[0m\n\u001b[0m\u001b[1;32m     27\u001b[0m       \u001b[0mop_arg\u001b[0m \u001b[0;34m=\u001b[0m \u001b[0mnp\u001b[0m\u001b[0;34m.\u001b[0m\u001b[0margmax\u001b[0m\u001b[0;34m(\u001b[0m\u001b[0moutput\u001b[0m\u001b[0;34m,\u001b[0m \u001b[0maxis\u001b[0m\u001b[0;34m=\u001b[0m\u001b[0;36m1\u001b[0m\u001b[0;34m)\u001b[0m\u001b[0;34m\u001b[0m\u001b[0;34m\u001b[0m\u001b[0m\n\u001b[1;32m     28\u001b[0m       \u001b[0;31m# print(output[0][op_arg[0]])\u001b[0m\u001b[0;34m\u001b[0m\u001b[0;34m\u001b[0m\u001b[0;34m\u001b[0m\u001b[0m\n",
            "\u001b[0;32m/usr/local/lib/python3.8/dist-packages/keras/utils/traceback_utils.py\u001b[0m in \u001b[0;36merror_handler\u001b[0;34m(*args, **kwargs)\u001b[0m\n\u001b[1;32m     63\u001b[0m         \u001b[0mfiltered_tb\u001b[0m \u001b[0;34m=\u001b[0m \u001b[0;32mNone\u001b[0m\u001b[0;34m\u001b[0m\u001b[0;34m\u001b[0m\u001b[0m\n\u001b[1;32m     64\u001b[0m         \u001b[0;32mtry\u001b[0m\u001b[0;34m:\u001b[0m\u001b[0;34m\u001b[0m\u001b[0;34m\u001b[0m\u001b[0m\n\u001b[0;32m---> 65\u001b[0;31m             \u001b[0;32mreturn\u001b[0m \u001b[0mfn\u001b[0m\u001b[0;34m(\u001b[0m\u001b[0;34m*\u001b[0m\u001b[0margs\u001b[0m\u001b[0;34m,\u001b[0m \u001b[0;34m**\u001b[0m\u001b[0mkwargs\u001b[0m\u001b[0;34m)\u001b[0m\u001b[0;34m\u001b[0m\u001b[0;34m\u001b[0m\u001b[0m\n\u001b[0m\u001b[1;32m     66\u001b[0m         \u001b[0;32mexcept\u001b[0m \u001b[0mException\u001b[0m \u001b[0;32mas\u001b[0m \u001b[0me\u001b[0m\u001b[0;34m:\u001b[0m\u001b[0;34m\u001b[0m\u001b[0;34m\u001b[0m\u001b[0m\n\u001b[1;32m     67\u001b[0m             \u001b[0mfiltered_tb\u001b[0m \u001b[0;34m=\u001b[0m \u001b[0m_process_traceback_frames\u001b[0m\u001b[0;34m(\u001b[0m\u001b[0me\u001b[0m\u001b[0;34m.\u001b[0m\u001b[0m__traceback__\u001b[0m\u001b[0;34m)\u001b[0m\u001b[0;34m\u001b[0m\u001b[0;34m\u001b[0m\u001b[0m\n",
            "\u001b[0;32m/usr/local/lib/python3.8/dist-packages/keras/engine/training.py\u001b[0m in \u001b[0;36mpredict\u001b[0;34m(self, x, batch_size, verbose, steps, callbacks, max_queue_size, workers, use_multiprocessing)\u001b[0m\n\u001b[1;32m   2315\u001b[0m                     )\n\u001b[1;32m   2316\u001b[0m \u001b[0;34m\u001b[0m\u001b[0m\n\u001b[0;32m-> 2317\u001b[0;31m             data_handler = data_adapter.get_data_handler(\n\u001b[0m\u001b[1;32m   2318\u001b[0m                 \u001b[0mx\u001b[0m\u001b[0;34m=\u001b[0m\u001b[0mx\u001b[0m\u001b[0;34m,\u001b[0m\u001b[0;34m\u001b[0m\u001b[0;34m\u001b[0m\u001b[0m\n\u001b[1;32m   2319\u001b[0m                 \u001b[0mbatch_size\u001b[0m\u001b[0;34m=\u001b[0m\u001b[0mbatch_size\u001b[0m\u001b[0;34m,\u001b[0m\u001b[0;34m\u001b[0m\u001b[0;34m\u001b[0m\u001b[0m\n",
            "\u001b[0;32m/usr/local/lib/python3.8/dist-packages/keras/engine/data_adapter.py\u001b[0m in \u001b[0;36mget_data_handler\u001b[0;34m(*args, **kwargs)\u001b[0m\n\u001b[1;32m   1577\u001b[0m     \u001b[0;32mif\u001b[0m \u001b[0mgetattr\u001b[0m\u001b[0;34m(\u001b[0m\u001b[0mkwargs\u001b[0m\u001b[0;34m[\u001b[0m\u001b[0;34m\"model\"\u001b[0m\u001b[0;34m]\u001b[0m\u001b[0;34m,\u001b[0m \u001b[0;34m\"_cluster_coordinator\"\u001b[0m\u001b[0;34m,\u001b[0m \u001b[0;32mNone\u001b[0m\u001b[0;34m)\u001b[0m\u001b[0;34m:\u001b[0m\u001b[0;34m\u001b[0m\u001b[0;34m\u001b[0m\u001b[0m\n\u001b[1;32m   1578\u001b[0m         \u001b[0;32mreturn\u001b[0m \u001b[0m_ClusterCoordinatorDataHandler\u001b[0m\u001b[0;34m(\u001b[0m\u001b[0;34m*\u001b[0m\u001b[0margs\u001b[0m\u001b[0;34m,\u001b[0m \u001b[0;34m**\u001b[0m\u001b[0mkwargs\u001b[0m\u001b[0;34m)\u001b[0m\u001b[0;34m\u001b[0m\u001b[0;34m\u001b[0m\u001b[0m\n\u001b[0;32m-> 1579\u001b[0;31m     \u001b[0;32mreturn\u001b[0m \u001b[0mDataHandler\u001b[0m\u001b[0;34m(\u001b[0m\u001b[0;34m*\u001b[0m\u001b[0margs\u001b[0m\u001b[0;34m,\u001b[0m \u001b[0;34m**\u001b[0m\u001b[0mkwargs\u001b[0m\u001b[0;34m)\u001b[0m\u001b[0;34m\u001b[0m\u001b[0;34m\u001b[0m\u001b[0m\n\u001b[0m\u001b[1;32m   1580\u001b[0m \u001b[0;34m\u001b[0m\u001b[0m\n\u001b[1;32m   1581\u001b[0m \u001b[0;34m\u001b[0m\u001b[0m\n",
            "\u001b[0;32m/usr/local/lib/python3.8/dist-packages/keras/engine/data_adapter.py\u001b[0m in \u001b[0;36m__init__\u001b[0;34m(self, x, y, sample_weight, batch_size, steps_per_epoch, initial_epoch, epochs, shuffle, class_weight, max_queue_size, workers, use_multiprocessing, model, steps_per_execution, distribute)\u001b[0m\n\u001b[1;32m   1257\u001b[0m \u001b[0;34m\u001b[0m\u001b[0m\n\u001b[1;32m   1258\u001b[0m         \u001b[0madapter_cls\u001b[0m \u001b[0;34m=\u001b[0m \u001b[0mselect_data_adapter\u001b[0m\u001b[0;34m(\u001b[0m\u001b[0mx\u001b[0m\u001b[0;34m,\u001b[0m \u001b[0my\u001b[0m\u001b[0;34m)\u001b[0m\u001b[0;34m\u001b[0m\u001b[0;34m\u001b[0m\u001b[0m\n\u001b[0;32m-> 1259\u001b[0;31m         self._adapter = adapter_cls(\n\u001b[0m\u001b[1;32m   1260\u001b[0m             \u001b[0mx\u001b[0m\u001b[0;34m,\u001b[0m\u001b[0;34m\u001b[0m\u001b[0;34m\u001b[0m\u001b[0m\n\u001b[1;32m   1261\u001b[0m             \u001b[0my\u001b[0m\u001b[0;34m,\u001b[0m\u001b[0;34m\u001b[0m\u001b[0;34m\u001b[0m\u001b[0m\n",
            "\u001b[0;32m/usr/local/lib/python3.8/dist-packages/keras/engine/data_adapter.py\u001b[0m in \u001b[0;36m__init__\u001b[0;34m(self, x, y, sample_weights, sample_weight_modes, batch_size, epochs, steps, shuffle, **kwargs)\u001b[0m\n\u001b[1;32m    304\u001b[0m         \u001b[0;31m# simultaneous shuffles can contend on a hardware level and degrade all\u001b[0m\u001b[0;34m\u001b[0m\u001b[0;34m\u001b[0m\u001b[0;34m\u001b[0m\u001b[0m\n\u001b[1;32m    305\u001b[0m         \u001b[0;31m# performance.\u001b[0m\u001b[0;34m\u001b[0m\u001b[0;34m\u001b[0m\u001b[0;34m\u001b[0m\u001b[0m\n\u001b[0;32m--> 306\u001b[0;31m         \u001b[0mindices_dataset\u001b[0m \u001b[0;34m=\u001b[0m \u001b[0mindices_dataset\u001b[0m\u001b[0;34m.\u001b[0m\u001b[0mmap\u001b[0m\u001b[0;34m(\u001b[0m\u001b[0mpermutation\u001b[0m\u001b[0;34m)\u001b[0m\u001b[0;34m.\u001b[0m\u001b[0mprefetch\u001b[0m\u001b[0;34m(\u001b[0m\u001b[0;36m1\u001b[0m\u001b[0;34m)\u001b[0m\u001b[0;34m\u001b[0m\u001b[0;34m\u001b[0m\u001b[0m\n\u001b[0m\u001b[1;32m    307\u001b[0m \u001b[0;34m\u001b[0m\u001b[0m\n\u001b[1;32m    308\u001b[0m         \u001b[0;32mdef\u001b[0m \u001b[0mslice_batch_indices\u001b[0m\u001b[0;34m(\u001b[0m\u001b[0mindices\u001b[0m\u001b[0;34m)\u001b[0m\u001b[0;34m:\u001b[0m\u001b[0;34m\u001b[0m\u001b[0;34m\u001b[0m\u001b[0m\n",
            "\u001b[0;32m/usr/local/lib/python3.8/dist-packages/tensorflow/python/data/ops/dataset_ops.py\u001b[0m in \u001b[0;36mmap\u001b[0;34m(self, map_func, num_parallel_calls, deterministic, name)\u001b[0m\n\u001b[1;32m   2292\u001b[0m         warnings.warn(\"The `deterministic` argument has no effect unless the \"\n\u001b[1;32m   2293\u001b[0m                       \"`num_parallel_calls` argument is specified.\")\n\u001b[0;32m-> 2294\u001b[0;31m       \u001b[0;32mreturn\u001b[0m \u001b[0mMapDataset\u001b[0m\u001b[0;34m(\u001b[0m\u001b[0mself\u001b[0m\u001b[0;34m,\u001b[0m \u001b[0mmap_func\u001b[0m\u001b[0;34m,\u001b[0m \u001b[0mpreserve_cardinality\u001b[0m\u001b[0;34m=\u001b[0m\u001b[0;32mTrue\u001b[0m\u001b[0;34m,\u001b[0m \u001b[0mname\u001b[0m\u001b[0;34m=\u001b[0m\u001b[0mname\u001b[0m\u001b[0;34m)\u001b[0m\u001b[0;34m\u001b[0m\u001b[0;34m\u001b[0m\u001b[0m\n\u001b[0m\u001b[1;32m   2295\u001b[0m     \u001b[0;32melse\u001b[0m\u001b[0;34m:\u001b[0m\u001b[0;34m\u001b[0m\u001b[0;34m\u001b[0m\u001b[0m\n\u001b[1;32m   2296\u001b[0m       return ParallelMapDataset(\n",
            "\u001b[0;32m/usr/local/lib/python3.8/dist-packages/tensorflow/python/data/ops/dataset_ops.py\u001b[0m in \u001b[0;36m__init__\u001b[0;34m(self, input_dataset, map_func, use_inter_op_parallelism, preserve_cardinality, use_legacy_function, name)\u001b[0m\n\u001b[1;32m   5497\u001b[0m     \u001b[0mself\u001b[0m\u001b[0;34m.\u001b[0m\u001b[0m_use_inter_op_parallelism\u001b[0m \u001b[0;34m=\u001b[0m \u001b[0muse_inter_op_parallelism\u001b[0m\u001b[0;34m\u001b[0m\u001b[0;34m\u001b[0m\u001b[0m\n\u001b[1;32m   5498\u001b[0m     \u001b[0mself\u001b[0m\u001b[0;34m.\u001b[0m\u001b[0m_preserve_cardinality\u001b[0m \u001b[0;34m=\u001b[0m \u001b[0mpreserve_cardinality\u001b[0m\u001b[0;34m\u001b[0m\u001b[0;34m\u001b[0m\u001b[0m\n\u001b[0;32m-> 5499\u001b[0;31m     self._map_func = structured_function.StructuredFunctionWrapper(\n\u001b[0m\u001b[1;32m   5500\u001b[0m         \u001b[0mmap_func\u001b[0m\u001b[0;34m,\u001b[0m\u001b[0;34m\u001b[0m\u001b[0;34m\u001b[0m\u001b[0m\n\u001b[1;32m   5501\u001b[0m         \u001b[0mself\u001b[0m\u001b[0;34m.\u001b[0m\u001b[0m_transformation_name\u001b[0m\u001b[0;34m(\u001b[0m\u001b[0;34m)\u001b[0m\u001b[0;34m,\u001b[0m\u001b[0;34m\u001b[0m\u001b[0;34m\u001b[0m\u001b[0m\n",
            "\u001b[0;32m/usr/local/lib/python3.8/dist-packages/tensorflow/python/data/ops/structured_function.py\u001b[0m in \u001b[0;36m__init__\u001b[0;34m(self, func, transformation_name, dataset, input_classes, input_shapes, input_types, input_structure, add_to_graph, use_legacy_function, defun_kwargs)\u001b[0m\n\u001b[1;32m    259\u001b[0m               \u001b[0;34m\"To force eager execution of tf.data functions, please use \"\u001b[0m\u001b[0;34m\u001b[0m\u001b[0;34m\u001b[0m\u001b[0m\n\u001b[1;32m    260\u001b[0m               \"`tf.data.experimental.enable_debug_mode()`.\")\n\u001b[0;32m--> 261\u001b[0;31m         \u001b[0mfn_factory\u001b[0m \u001b[0;34m=\u001b[0m \u001b[0mtrace_tf_function\u001b[0m\u001b[0;34m(\u001b[0m\u001b[0mdefun_kwargs\u001b[0m\u001b[0;34m)\u001b[0m\u001b[0;34m\u001b[0m\u001b[0;34m\u001b[0m\u001b[0m\n\u001b[0m\u001b[1;32m    262\u001b[0m \u001b[0;34m\u001b[0m\u001b[0m\n\u001b[1;32m    263\u001b[0m     \u001b[0mself\u001b[0m\u001b[0;34m.\u001b[0m\u001b[0m_function\u001b[0m \u001b[0;34m=\u001b[0m \u001b[0mfn_factory\u001b[0m\u001b[0;34m(\u001b[0m\u001b[0;34m)\u001b[0m\u001b[0;34m\u001b[0m\u001b[0;34m\u001b[0m\u001b[0m\n",
            "\u001b[0;32m/usr/local/lib/python3.8/dist-packages/tensorflow/python/data/ops/structured_function.py\u001b[0m in \u001b[0;36mtrace_tf_function\u001b[0;34m(defun_kwargs)\u001b[0m\n\u001b[1;32m    237\u001b[0m           \u001b[0mautograph\u001b[0m\u001b[0;34m=\u001b[0m\u001b[0;32mFalse\u001b[0m\u001b[0;34m,\u001b[0m\u001b[0;34m\u001b[0m\u001b[0;34m\u001b[0m\u001b[0m\n\u001b[1;32m    238\u001b[0m           attributes=defun_kwargs)\n\u001b[0;32m--> 239\u001b[0;31m       \u001b[0;32mdef\u001b[0m \u001b[0mwrapped_fn\u001b[0m\u001b[0;34m(\u001b[0m\u001b[0;34m*\u001b[0m\u001b[0margs\u001b[0m\u001b[0;34m)\u001b[0m\u001b[0;34m:\u001b[0m  \u001b[0;31m# pylint: disable=missing-docstring\u001b[0m\u001b[0;34m\u001b[0m\u001b[0;34m\u001b[0m\u001b[0m\n\u001b[0m\u001b[1;32m    240\u001b[0m         \u001b[0mret\u001b[0m \u001b[0;34m=\u001b[0m \u001b[0mwrapper_helper\u001b[0m\u001b[0;34m(\u001b[0m\u001b[0;34m*\u001b[0m\u001b[0margs\u001b[0m\u001b[0;34m)\u001b[0m\u001b[0;34m\u001b[0m\u001b[0;34m\u001b[0m\u001b[0m\n\u001b[1;32m    241\u001b[0m         \u001b[0mret\u001b[0m \u001b[0;34m=\u001b[0m \u001b[0mstructure\u001b[0m\u001b[0;34m.\u001b[0m\u001b[0mto_tensor_list\u001b[0m\u001b[0;34m(\u001b[0m\u001b[0mself\u001b[0m\u001b[0;34m.\u001b[0m\u001b[0m_output_structure\u001b[0m\u001b[0;34m,\u001b[0m \u001b[0mret\u001b[0m\u001b[0;34m)\u001b[0m\u001b[0;34m\u001b[0m\u001b[0;34m\u001b[0m\u001b[0m\n",
            "\u001b[0;32m/usr/local/lib/python3.8/dist-packages/tensorflow/python/eager/polymorphic_function/quarantine.py\u001b[0m in \u001b[0;36mdecorated\u001b[0;34m(function)\u001b[0m\n\u001b[1;32m    408\u001b[0m     return tf_decorator.make_decorator(\n\u001b[1;32m    409\u001b[0m         \u001b[0mfunction\u001b[0m\u001b[0;34m,\u001b[0m\u001b[0;34m\u001b[0m\u001b[0;34m\u001b[0m\u001b[0m\n\u001b[0;32m--> 410\u001b[0;31m         tracing_compiler.TracingCompiler(\n\u001b[0m\u001b[1;32m    411\u001b[0m             \u001b[0mfunction\u001b[0m\u001b[0;34m,\u001b[0m\u001b[0;34m\u001b[0m\u001b[0;34m\u001b[0m\u001b[0m\n\u001b[1;32m    412\u001b[0m             \u001b[0mname\u001b[0m\u001b[0;34m,\u001b[0m\u001b[0;34m\u001b[0m\u001b[0;34m\u001b[0m\u001b[0m\n",
            "\u001b[0;32m/usr/local/lib/python3.8/dist-packages/tensorflow/python/eager/polymorphic_function/tracing_compiler.py\u001b[0m in \u001b[0;36m__init__\u001b[0;34m(self, python_function, name, input_signature, attributes, autograph, autograph_options, reduce_retracing, capture_by_value, jit_compile)\u001b[0m\n\u001b[1;32m    105\u001b[0m     \u001b[0mself\u001b[0m\u001b[0;34m.\u001b[0m\u001b[0m_python_function\u001b[0m \u001b[0;34m=\u001b[0m \u001b[0mpython_function\u001b[0m\u001b[0;34m\u001b[0m\u001b[0;34m\u001b[0m\u001b[0m\n\u001b[1;32m    106\u001b[0m     \u001b[0mpure_function\u001b[0m \u001b[0;34m=\u001b[0m \u001b[0mattributes\u001b[0m \u001b[0;32mand\u001b[0m \u001b[0mmonomorphic_function\u001b[0m\u001b[0;34m.\u001b[0m\u001b[0mIMPLEMENTS_ATTRIBUTE_NAME\u001b[0m \u001b[0;32min\u001b[0m \u001b[0mattributes\u001b[0m\u001b[0;34m\u001b[0m\u001b[0;34m\u001b[0m\u001b[0m\n\u001b[0;32m--> 107\u001b[0;31m     self._function_spec = function_spec.FunctionSpec.from_function_and_signature(\n\u001b[0m\u001b[1;32m    108\u001b[0m         \u001b[0mpython_function\u001b[0m\u001b[0;34m,\u001b[0m\u001b[0;34m\u001b[0m\u001b[0;34m\u001b[0m\u001b[0m\n\u001b[1;32m    109\u001b[0m         \u001b[0minput_signature\u001b[0m\u001b[0;34m,\u001b[0m\u001b[0;34m\u001b[0m\u001b[0;34m\u001b[0m\u001b[0m\n",
            "\u001b[0;32m/usr/local/lib/python3.8/dist-packages/tensorflow/python/eager/polymorphic_function/function_spec.py\u001b[0m in \u001b[0;36mfrom_function_and_signature\u001b[0;34m(cls, python_function, input_signature, is_pure, jit_compile)\u001b[0m\n\u001b[1;32m     63\u001b[0m       \u001b[0minstance\u001b[0m \u001b[0mof\u001b[0m \u001b[0mFunctionSpec\u001b[0m\u001b[0;34m\u001b[0m\u001b[0;34m\u001b[0m\u001b[0m\n\u001b[1;32m     64\u001b[0m     \"\"\"\n\u001b[0;32m---> 65\u001b[0;31m     \u001b[0m_validate_signature\u001b[0m\u001b[0;34m(\u001b[0m\u001b[0minput_signature\u001b[0m\u001b[0;34m)\u001b[0m\u001b[0;34m\u001b[0m\u001b[0;34m\u001b[0m\u001b[0m\n\u001b[0m\u001b[1;32m     66\u001b[0m     \u001b[0m_validate_python_function\u001b[0m\u001b[0;34m(\u001b[0m\u001b[0mpython_function\u001b[0m\u001b[0;34m,\u001b[0m \u001b[0minput_signature\u001b[0m\u001b[0;34m)\u001b[0m\u001b[0;34m\u001b[0m\u001b[0;34m\u001b[0m\u001b[0m\n\u001b[1;32m     67\u001b[0m \u001b[0;34m\u001b[0m\u001b[0m\n",
            "\u001b[0;32m/usr/local/lib/python3.8/dist-packages/tensorflow/python/eager/polymorphic_function/function_spec.py\u001b[0m in \u001b[0;36m_validate_signature\u001b[0;34m(signature)\u001b[0m\n\u001b[1;32m    558\u001b[0m   \u001b[0;31m# TODO(xjun): Allow VariableSpec once we figure out API for de-aliasing.\u001b[0m\u001b[0;34m\u001b[0m\u001b[0;34m\u001b[0m\u001b[0;34m\u001b[0m\u001b[0m\n\u001b[1;32m    559\u001b[0m   \u001b[0mvariable_specs\u001b[0m \u001b[0;34m=\u001b[0m \u001b[0m_get_variable_specs\u001b[0m\u001b[0;34m(\u001b[0m\u001b[0msignature\u001b[0m\u001b[0;34m)\u001b[0m\u001b[0;34m\u001b[0m\u001b[0;34m\u001b[0m\u001b[0m\n\u001b[0;32m--> 560\u001b[0;31m   \u001b[0;32mif\u001b[0m \u001b[0mvariable_specs\u001b[0m\u001b[0;34m:\u001b[0m\u001b[0;34m\u001b[0m\u001b[0;34m\u001b[0m\u001b[0m\n\u001b[0m\u001b[1;32m    561\u001b[0m     raise TypeError(\n\u001b[1;32m    562\u001b[0m         f\"input_signature doesn't support VariableSpec, got {variable_specs}\")\n",
            "\u001b[0;31mKeyboardInterrupt\u001b[0m: "
          ]
        }
      ],
      "source": [
        "#load paths of training images\n",
        "im_size=300\n",
        "path=\"/content/drive/MyDrive/Traffic Prediction/resized ottawa benchmark set\"\n",
        "# path = '/content/drive/MyDrive/Traffic Prediction/resized ottawa benchmark set'\n",
        "traffic_level = {0: 'High', 1:'Low', 2:'Medium'}\n",
        "# in_unmasked_EfficientNetB3 = ['in_unmasked_EfficientNetB3']\n",
        "unmasked_EfficientNetB3_use = ['unmasked_EfficientNetB3_use']\n",
        "unmasked_EfficientNetB3_pred = ['unmasked_EfficientNetB3_pred']\n",
        "unmasked_EfficientNetB3_score = ['unmasked_EfficientNetB3_score']\n",
        "\n",
        "for i in range(len(test_img)):\n",
        "  if type(bm['Unnamed: 20'][i+1]) is not float or not math.isnan(bm['Unnamed: 20'][i+1]):\n",
        "    if bm['Unnamed: 21'][i+1] == 'FALSE':\n",
        "        img = cv2.imread(path + '/train/' + bm['Unnamed: 20'][i+1] + '/' + test_img[i] + '.jpg')\n",
        "        # print(path+'/train/'+bm['Unnamed: 20'][i+1] + '/' +test_img[i] + '.jpg')\n",
        "        # print(bm['Unnamed: 20'][i+1])\n",
        "        # print(test_img[i])\n",
        "    else: \n",
        "      img = cv2.imread(path + '/test/' + bm['Unnamed: 20'][i+1] + '/' + test_img[i] + '.jpg')\n",
        "\n",
        "    image = img.reshape(1,300,300,3)\n",
        "    # image = cv2.resize(img, (im_size, im_size))\n",
        "    if bm['Unnamed: 20'][i+1] != 'Blurry' and bm['Unnamed: 20'][i+1] != 'Camera_off':\n",
        "      output = model.predict(image)\n",
        "      op_arg = np.argmax(output, axis=1)\n",
        "      # print(output[0][op_arg[0]])\n",
        "      # print(traffic_level[op_arg[0]])\n",
        "      unmasked_EfficientNetB3_score.append(output[0][op_arg[0]])\n",
        "      unmasked_EfficientNetB3_pred.append(traffic_level[op_arg[0]])\n",
        "      if str(i)+'.jpg' in train_img:\n",
        "        unmasked_EfficientNetB3_use.append('train')\n",
        "      else:\n",
        "        unmasked_EfficientNetB3_use.append('test')\n",
        "    else:\n",
        "      unmasked_EfficientNetB3_pred.append('NA')\n",
        "      unmasked_EfficientNetB3_score.append('NA')\n",
        "      unmasked_EfficientNetB3_use.append('NA')\n",
        "    \n",
        "  else:\n",
        "    unmasked_EfficientNetB3_pred.append('NA')\n",
        "    unmasked_EfficientNetB3_score.append('NA')\n",
        "    unmasked_EfficientNetB3_use.append('NA')"
      ]
    },
    {
      "cell_type": "code",
      "execution_count": null,
      "metadata": {
        "id": "SGYwyhrckvUE"
      },
      "outputs": [],
      "source": [
        "bm['Akito'] = unmasked_EfficientNetB3_use\n",
        "bm['Akito.1'] = unmasked_EfficientNetB3_pred\n",
        "bm['Akito.2'] = unmasked_EfficientNetB3_score\n",
        "bm.to_csv('/content/drive/MyDrive/Traffic Prediction/csv/benchmark_train_test(sec_ep30).csv')"
      ]
    },
    {
      "cell_type": "code",
      "execution_count": null,
      "metadata": {
        "id": "O8MWzio3HwxF"
      },
      "outputs": [],
      "source": [
        "from google.colab.patches import cv2_imshow"
      ]
    },
    {
      "cell_type": "code",
      "execution_count": null,
      "metadata": {
        "colab": {
          "base_uri": "https://localhost:8080/",
          "height": 334
        },
        "id": "shk0DUFnISfZ",
        "outputId": "553791fc-7430-4aee-d90d-15d5005ddb1c"
      },
      "outputs": [
        {
          "output_type": "display_data",
          "data": {
            "text/plain": [
              "<PIL.Image.Image image mode=RGB size=300x300 at 0x7F3135E03580>"
            ],
            "image/png": "[encoded data removed]"
          },
          "metadata": {}
        },
        {
          "output_type": "stream",
          "name": "stdout",
          "text": [
            "(300, 300, 3)\n"
          ]
        }
      ],
      "source": [
        "img=cv2.imread('/content/drive/MyDrive/Traffic Prediction/resized ottawa benchmark set/train/Low/2005_2022-12-22-23-17.jpg')\n",
        "cv2_imshow(img)\n",
        "print(img.shape)"
      ]
    }
  ],
  "metadata": {
    "colab": {
      "collapsed_sections": [
        "TyqJMNQFP1Ud",
        "LsfVHcte9GwW",
        "LNWbAw5CWehF",
        "GdkFk9NWeXws",
        "v8ps4a7Nevzs",
        "-h3jpy6CRe73",
        "qWaycFu-sAMy"
      ],
      "machine_shape": "hm",
      "provenance": []
    },
    "gpuClass": "standard",
    "kernelspec": {
      "display_name": "Python 3",
      "name": "python3"
    },
    "language_info": {
      "name": "python"
    }
  },
  "nbformat": 4,
  "nbformat_minor": 0
}